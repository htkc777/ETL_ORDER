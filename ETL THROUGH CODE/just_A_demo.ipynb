{
 "cells": [
  {
   "cell_type": "code",
   "execution_count": 45,
   "metadata": {},
   "outputs": [
    {
     "name": "stdout",
     "output_type": "stream",
     "text": [
      "Defaulting to user installation because normal site-packages is not writeable\n",
      "Requirement already satisfied: pandas in c:\\users\\15442\\appdata\\roaming\\python\\python310\\site-packages (1.4.3)\n",
      "Requirement already satisfied: pytz>=2020.1 in c:\\users\\15442\\appdata\\roaming\\python\\python310\\site-packages (from pandas) (2022.2.1)\n",
      "Requirement already satisfied: python-dateutil>=2.8.1 in c:\\users\\15442\\appdata\\roaming\\python\\python310\\site-packages (from pandas) (2.8.2)\n",
      "Requirement already satisfied: numpy>=1.21.0 in c:\\users\\15442\\appdata\\roaming\\python\\python310\\site-packages (from pandas) (1.23.2)\n",
      "Requirement already satisfied: six>=1.5 in c:\\users\\15442\\appdata\\roaming\\python\\python310\\site-packages (from python-dateutil>=2.8.1->pandas) (1.16.0)\n"
     ]
    }
   ],
   "source": [
    "! pip install pandas"
   ]
  },
  {
   "cell_type": "code",
   "execution_count": 46,
   "metadata": {},
   "outputs": [],
   "source": [
    "import pandas as pd"
   ]
  },
  {
   "cell_type": "code",
   "execution_count": 47,
   "metadata": {},
   "outputs": [],
   "source": [
    "df = pd.read_csv('just_a_demo_not_serious.csv')"
   ]
  },
  {
   "cell_type": "code",
   "execution_count": 48,
   "metadata": {},
   "outputs": [
    {
     "data": {
      "text/plain": [
       "Index(['Renamed'], dtype='object')"
      ]
     },
     "execution_count": 48,
     "metadata": {},
     "output_type": "execute_result"
    }
   ],
   "source": [
    "column_indices = [0]\n",
    "df.columns[column_indices]"
   ]
  },
  {
   "cell_type": "code",
   "execution_count": 49,
   "metadata": {},
   "outputs": [
    {
     "data": {
      "text/plain": [
       "Index(['Not_Renamed'], dtype='object')"
      ]
     },
     "execution_count": 49,
     "metadata": {},
     "output_type": "execute_result"
    }
   ],
   "source": [
    "column_indices = [1]\n",
    "df.columns[column_indices]"
   ]
  },
  {
   "cell_type": "code",
   "execution_count": 50,
   "metadata": {},
   "outputs": [
    {
     "data": {
      "text/plain": [
       "0               BKNG_DLR_NO\n",
       "1                   BKNG_NO\n",
       "2              BKNG_CORP_NO\n",
       "3              BKNG_CMPN_NO\n",
       "4                 BKNG_DATE\n",
       "5           BKNG_MODEL_CODE\n",
       "6            BKNG_VRNT_CODE\n",
       "7           BKNG_COLOR_CODE\n",
       "8     BKNG_EXPCT_DLVRY_DATE\n",
       "9           BKNG_VRNT_PRICE\n",
       "10                 BKNG_AMT\n",
       "11      BKNG_RCPT_TOTAL_AMT\n",
       "12           BKNG_ALCN_DATE\n",
       "13           BKNG_FNCE_TYPE\n",
       "14            BKNG_DSA_NAME\n",
       "15              BKNG_DO_AMT\n",
       "16           BKNG_CNCL_DATE\n",
       "17            BKNG_ENQRY_NO\n",
       "18              BKNG_EMP_NO\n",
       "19             BKNG_CUST_NO\n",
       "20          BKNG_CRTE_DTIME\n",
       "21         BKNG_CRTE_EMP_NO\n",
       "22          BKNG_UPDT_DTIME\n",
       "23     BKNG_CMTD_DLVRY_DATE\n",
       "24           BKNG_SALE_TYPE\n",
       "25       BKNG_INTCOLOR_CODE\n",
       "26       BKNG_BILL_TO_STATE\n",
       "27        BKNG_BILL_TO_CITY\n",
       "28      BKNG_BILL_TO_TEHSIL\n",
       "29     BKNG_BILL_TO_VILLAGE\n",
       "30               BKNG_RMRKS\n",
       "31             BKNG_SRC_FLG\n",
       "Name: Not_Renamed, dtype: object"
      ]
     },
     "execution_count": 50,
     "metadata": {},
     "output_type": "execute_result"
    }
   ],
   "source": [
    "df['Not_Renamed']"
   ]
  },
  {
   "cell_type": "code",
   "execution_count": 51,
   "metadata": {},
   "outputs": [],
   "source": [
    "list = []\n",
    "for i in df['Not_Renamed']:\n",
    "    list.append(i)"
   ]
  },
  {
   "cell_type": "code",
   "execution_count": 52,
   "metadata": {},
   "outputs": [
    {
     "data": {
      "text/plain": [
       "['BKNG_DLR_NO',\n",
       " 'BKNG_NO',\n",
       " 'BKNG_CORP_NO',\n",
       " 'BKNG_CMPN_NO',\n",
       " 'BKNG_DATE',\n",
       " 'BKNG_MODEL_CODE',\n",
       " 'BKNG_VRNT_CODE',\n",
       " 'BKNG_COLOR_CODE',\n",
       " 'BKNG_EXPCT_DLVRY_DATE',\n",
       " 'BKNG_VRNT_PRICE',\n",
       " 'BKNG_AMT',\n",
       " 'BKNG_RCPT_TOTAL_AMT',\n",
       " 'BKNG_ALCN_DATE',\n",
       " 'BKNG_FNCE_TYPE',\n",
       " 'BKNG_DSA_NAME',\n",
       " 'BKNG_DO_AMT',\n",
       " 'BKNG_CNCL_DATE',\n",
       " 'BKNG_ENQRY_NO',\n",
       " 'BKNG_EMP_NO',\n",
       " 'BKNG_CUST_NO',\n",
       " 'BKNG_CRTE_DTIME',\n",
       " 'BKNG_CRTE_EMP_NO',\n",
       " 'BKNG_UPDT_DTIME',\n",
       " 'BKNG_CMTD_DLVRY_DATE',\n",
       " 'BKNG_SALE_TYPE',\n",
       " 'BKNG_INTCOLOR_CODE',\n",
       " 'BKNG_BILL_TO_STATE',\n",
       " 'BKNG_BILL_TO_CITY',\n",
       " 'BKNG_BILL_TO_TEHSIL',\n",
       " 'BKNG_BILL_TO_VILLAGE',\n",
       " 'BKNG_RMRKS',\n",
       " 'BKNG_SRC_FLG']"
      ]
     },
     "execution_count": 52,
     "metadata": {},
     "output_type": "execute_result"
    }
   ],
   "source": [
    "list"
   ]
  },
  {
   "cell_type": "code",
   "execution_count": 53,
   "metadata": {},
   "outputs": [
    {
     "data": {
      "text/plain": [
       "0                Dealer_No.\n",
       "1               Booking_No.\n",
       "2           Corporation_No.\n",
       "3               Company_No.\n",
       "4                 BKNG_DATE\n",
       "5                Model_Code\n",
       "6                 TRIM_Code\n",
       "7           Ext.Colour_Code\n",
       "8     BKNG_EXPCT_DLVRY_DATE\n",
       "9           BKNG_VRNT_PRICE\n",
       "10                 BKNG_AMT\n",
       "11      BKNG_RCPT_TOTAL_AMT\n",
       "12           BKNG_ALCN_DATE\n",
       "13           BKNG_FNCE_TYPE\n",
       "14            BKNG_DSA_NAME\n",
       "15              BKNG_DO_AMT\n",
       "16           BKNG_CNCL_DATE\n",
       "17         Link_Enquiry_No.\n",
       "18              BKNG_EMP_NO\n",
       "19             Customer_No.\n",
       "20          BKNG_CRTE_DTIME\n",
       "21         BKNG_CRTE_EMP_NO\n",
       "22          BKNG_UPDT_DTIME\n",
       "23     BKNG_CMTD_DLVRY_DATE\n",
       "24           BKNG_SALE_TYPE\n",
       "25          Int.Colour_Code\n",
       "26       BKNG_BILL_TO_STATE\n",
       "27        BKNG_BILL_TO_CITY\n",
       "28      BKNG_BILL_TO_TEHSIL\n",
       "29     BKNG_BILL_TO_VILLAGE\n",
       "30               BKNG_RMRKS\n",
       "31             BKNG_SRC_FLG\n",
       "Name: Renamed, dtype: object"
      ]
     },
     "execution_count": 53,
     "metadata": {},
     "output_type": "execute_result"
    }
   ],
   "source": [
    "df['Renamed']"
   ]
  },
  {
   "cell_type": "code",
   "execution_count": 54,
   "metadata": {},
   "outputs": [],
   "source": [
    "list2 = []\n",
    "for i in df['Renamed']:\n",
    "    list2.append(i)"
   ]
  },
  {
   "cell_type": "code",
   "execution_count": 55,
   "metadata": {},
   "outputs": [
    {
     "data": {
      "text/plain": [
       "['Dealer_No.',\n",
       " 'Booking_No.',\n",
       " 'Corporation_No.',\n",
       " 'Company_No.',\n",
       " 'BKNG_DATE',\n",
       " 'Model_Code',\n",
       " 'TRIM_Code',\n",
       " 'Ext.Colour_Code',\n",
       " 'BKNG_EXPCT_DLVRY_DATE',\n",
       " 'BKNG_VRNT_PRICE',\n",
       " 'BKNG_AMT',\n",
       " 'BKNG_RCPT_TOTAL_AMT',\n",
       " 'BKNG_ALCN_DATE',\n",
       " 'BKNG_FNCE_TYPE',\n",
       " 'BKNG_DSA_NAME',\n",
       " 'BKNG_DO_AMT',\n",
       " 'BKNG_CNCL_DATE',\n",
       " 'Link_Enquiry_No.',\n",
       " 'BKNG_EMP_NO',\n",
       " 'Customer_No.',\n",
       " 'BKNG_CRTE_DTIME',\n",
       " 'BKNG_CRTE_EMP_NO',\n",
       " 'BKNG_UPDT_DTIME',\n",
       " 'BKNG_CMTD_DLVRY_DATE',\n",
       " 'BKNG_SALE_TYPE',\n",
       " 'Int.Colour_Code',\n",
       " 'BKNG_BILL_TO_STATE',\n",
       " 'BKNG_BILL_TO_CITY',\n",
       " 'BKNG_BILL_TO_TEHSIL',\n",
       " 'BKNG_BILL_TO_VILLAGE',\n",
       " 'BKNG_RMRKS',\n",
       " 'BKNG_SRC_FLG']"
      ]
     },
     "execution_count": 55,
     "metadata": {},
     "output_type": "execute_result"
    }
   ],
   "source": [
    "list2"
   ]
  },
  {
   "cell_type": "code",
   "execution_count": 56,
   "metadata": {},
   "outputs": [
    {
     "data": {
      "text/plain": [
       "[0,\n",
       " 1,\n",
       " 2,\n",
       " 3,\n",
       " 4,\n",
       " 5,\n",
       " 6,\n",
       " 7,\n",
       " 8,\n",
       " 9,\n",
       " 10,\n",
       " 11,\n",
       " 12,\n",
       " 13,\n",
       " 14,\n",
       " 15,\n",
       " 16,\n",
       " 17,\n",
       " 18,\n",
       " 19,\n",
       " 20,\n",
       " 21,\n",
       " 22,\n",
       " 23,\n",
       " 24,\n",
       " 25,\n",
       " 26,\n",
       " 27,\n",
       " 28,\n",
       " 29,\n",
       " 30,\n",
       " 31]"
      ]
     },
     "execution_count": 56,
     "metadata": {},
     "output_type": "execute_result"
    }
   ],
   "source": [
    "list3 = []\n",
    "for i in range(32):\n",
    "    list3.append(i)\n",
    "list3"
   ]
  }
 ],
 "metadata": {
  "kernelspec": {
   "display_name": "Python 3 (ipykernel)",
   "language": "python",
   "name": "python3"
  },
  "language_info": {
   "codemirror_mode": {
    "name": "ipython",
    "version": 3
   },
   "file_extension": ".py",
   "mimetype": "text/x-python",
   "name": "python",
   "nbconvert_exporter": "python",
   "pygments_lexer": "ipython3",
   "version": "3.10.7"
  },
  "vscode": {
   "interpreter": {
    "hash": "26de051ba29f2982a8de78e945f0abaf191376122a1563185a90213a26c5da77"
   }
  }
 },
 "nbformat": 4,
 "nbformat_minor": 2
}
