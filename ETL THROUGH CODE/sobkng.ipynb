{
 "cells": [
  {
   "cell_type": "code",
   "execution_count": 1,
   "metadata": {},
   "outputs": [
    {
     "name": "stdout",
     "output_type": "stream",
     "text": [
      "Defaulting to user installation because normal site-packages is not writeable\n",
      "Requirement already satisfied: pandas in c:\\users\\15442\\appdata\\roaming\\python\\python310\\site-packages (1.4.3)\n",
      "Requirement already satisfied: pytz>=2020.1 in c:\\users\\15442\\appdata\\roaming\\python\\python310\\site-packages (from pandas) (2022.2.1)\n",
      "Requirement already satisfied: numpy>=1.21.0 in c:\\users\\15442\\appdata\\roaming\\python\\python310\\site-packages (from pandas) (1.23.2)\n",
      "Requirement already satisfied: python-dateutil>=2.8.1 in c:\\users\\15442\\appdata\\roaming\\python\\python310\\site-packages (from pandas) (2.8.2)\n",
      "Requirement already satisfied: six>=1.5 in c:\\users\\15442\\appdata\\roaming\\python\\python310\\site-packages (from python-dateutil>=2.8.1->pandas) (1.16.0)\n"
     ]
    }
   ],
   "source": [
    "! pip install pandas"
   ]
  },
  {
   "cell_type": "code",
   "execution_count": 2,
   "metadata": {},
   "outputs": [],
   "source": [
    "import pandas as pd"
   ]
  },
  {
   "cell_type": "code",
   "execution_count": 3,
   "metadata": {},
   "outputs": [
    {
     "name": "stderr",
     "output_type": "stream",
     "text": [
      "C:\\Users\\15442\\AppData\\Local\\Temp\\ipykernel_6080\\1563139292.py:1: DtypeWarning: Columns (35,80) have mixed types. Specify dtype option on import or set low_memory=False.\n",
      "  df = pd.read_csv('C:\\\\Users\\\\15442\\\\Desktop\\\\Files\\\\ETL Through Code\\\\RAW files\\\\Stage1_Sales_SAL_SOBKNG_TB.csv')\n"
     ]
    }
   ],
   "source": [
    "df = pd.read_csv('C:\\\\Users\\\\15442\\\\Desktop\\\\Files\\\\ETL Through Code\\\\RAW files\\\\Stage1_Sales_SAL_SOBKNG_TB.csv')"
   ]
  },
  {
   "cell_type": "code",
   "execution_count": 4,
   "metadata": {},
   "outputs": [
    {
     "data": {
      "text/plain": [
       "(953389, 81)"
      ]
     },
     "execution_count": 4,
     "metadata": {},
     "output_type": "execute_result"
    }
   ],
   "source": [
    "df.shape"
   ]
  },
  {
   "cell_type": "code",
   "execution_count": 5,
   "metadata": {},
   "outputs": [
    {
     "name": "stdout",
     "output_type": "stream",
     "text": [
      "<class 'pandas.core.frame.DataFrame'>\n",
      "RangeIndex: 953389 entries, 0 to 953388\n",
      "Data columns (total 81 columns):\n",
      " #   Column                  Non-Null Count   Dtype  \n",
      "---  ------                  --------------   -----  \n",
      " 0   BKNG_DLR_NO             953388 non-null  object \n",
      " 1   BKNG_NO                 953388 non-null  object \n",
      " 2   BKNG_CORP_NO            953388 non-null  object \n",
      " 3   BKNG_CMPN_NO            953388 non-null  object \n",
      " 4   BKNG_DATE               953388 non-null  object \n",
      " 5   BKNG_MODEL_CODE         953388 non-null  object \n",
      " 6   BKNG_VRNT_CODE          953388 non-null  float64\n",
      " 7   BKNG_COLOR_CODE         953387 non-null  object \n",
      " 8   BKNG_EXPCT_DLVRY_DATE   167443 non-null  float64\n",
      " 9   BKNG_VRNT_PRICE         942063 non-null  float64\n",
      " 10  BKNG_AMT                17799 non-null   float64\n",
      " 11  BKNG_RCPT_TOTAL_AMT     906449 non-null  float64\n",
      " 12  BKNG_RCPT_CMPLT_YN      953388 non-null  object \n",
      " 13  BKNG_ALCN_DATE          507786 non-null  object \n",
      " 14  BKNG_ALCN_VIN           505379 non-null  object \n",
      " 15  BKNG_FNCE_TYPE          943447 non-null  float64\n",
      " 16  BKNG_FNCE_YN            0 non-null       float64\n",
      " 17  BKNG_FNCER_CODE         441412 non-null  object \n",
      " 18  BKNG_DSA_NAME           6473 non-null    object \n",
      " 19  BKNG_LOAN_AMT           518776 non-null  float64\n",
      " 20  BKNG_TENOR_NMTHS        22050 non-null   float64\n",
      " 21  BKNG_FILE_NO            0 non-null       float64\n",
      " 22  BKNG_DO_NO              0 non-null       float64\n",
      " 23  BKNG_DO_AMT             26839 non-null   float64\n",
      " 24  BKNG_DO_DATE            44926 non-null   object \n",
      " 25  BKNG_IFA_AMT            0 non-null       float64\n",
      " 26  BKNG_INVGT_DATE         0 non-null       float64\n",
      " 27  BKNG_FLGN_DATE          0 non-null       float64\n",
      " 28  BKNG_PADS_DATE          0 non-null       float64\n",
      " 29  BKNG_FNLA_DATE          0 non-null       float64\n",
      " 30  BKNG_INVGT_STAT         0 non-null       float64\n",
      " 31  BKNG_CNCL_TYPE          0 non-null       float64\n",
      " 32  BKNG_CNCL_DATE          1906 non-null    float64\n",
      " 33  BKNG_CNCL_RMRKS         0 non-null       float64\n",
      " 34  BKNG_ENQRY_NO           953388 non-null  object \n",
      " 35  BKNG_EMP_NO             1 non-null       object \n",
      " 36  BKNG_CUST_NO            0 non-null       float64\n",
      " 37  BKNG_CRTE_DTIME         953388 non-null  object \n",
      " 38  BKNG_CRTE_EMP_NO        953388 non-null  object \n",
      " 39  BKNG_UPDT_DTIME         953388 non-null  object \n",
      " 40  BKNG_UPDT_EMP_NO        953388 non-null  object \n",
      " 41  BKNG_RADS_DATE          17799 non-null   object \n",
      " 42  BKNG_DO_ISSD_BY         27956 non-null   float64\n",
      " 43  BKNG_DO_CMMT_PMNT_DATE  26309 non-null   object \n",
      " 44  BKNG_DO_ISSR_NAME       0 non-null       float64\n",
      " 45  BKNG_DBRS_DATE          0 non-null       float64\n",
      " 46  BKNG_EXPTD_DBRS_DATE    0 non-null       float64\n",
      " 47  BKNG_CMTD_DLVRY_DATE    170220 non-null  object \n",
      " 48  BKNG_RACK_RATE          3370 non-null    float64\n",
      " 49  BKNG_DSA_CMSN           495228 non-null  float64\n",
      " 50  BKNG_BRKR_PYMT_TYPE     36 non-null      float64\n",
      " 51  BKNG_BRKR_PYMT_AMT      0 non-null       float64\n",
      " 52  BKNG_SALE_TYPE          518116 non-null  float64\n",
      " 53  BKNG_ADVNC_EMI          518776 non-null  float64\n",
      " 54  BKNG_IFA_DATE           0 non-null       float64\n",
      " 55  BKNG_BASIC_PRICE        518779 non-null  float64\n",
      " 56  BKNG_TAX_PRCNT          518779 non-null  float64\n",
      " 57  BKNG_EDCE_PRCNT         518779 non-null  float64\n",
      " 58  BKNG_HYPO_NAME          441201 non-null  object \n",
      " 59  BKNG_RFND_TOTAL_AMT     951015 non-null  float64\n",
      " 60  BKNG_CGST_PRCNT         518776 non-null  float64\n",
      " 61  BKNG_SGST_PRCNT         518776 non-null  float64\n",
      " 62  BKNG_IGST_PRCNT         518776 non-null  float64\n",
      " 63  BKNG_INTCOLOR_CODE      953378 non-null  object \n",
      " 64  BKNG_BILL_TO_NAME       110447 non-null  object \n",
      " 65  BKNG_BILL_TO_ADDR       109509 non-null  object \n",
      " 66  BKNG_BILL_TO_STATE      110381 non-null  object \n",
      " 67  BKNG_BILL_TO_CITY       110365 non-null  object \n",
      " 68  BKNG_BILL_TO_TEHSIL     104185 non-null  object \n",
      " 69  BKNG_BILL_TO_VILLAGE    16487 non-null   object \n",
      " 70  BKNG_BILL_TO_PIN        110353 non-null  float64\n",
      " 71  BKNG_SHIP_TO_NAME       92280 non-null   object \n",
      " 72  BKNG_SHIP_TO_ADDR       78880 non-null   object \n",
      " 73  BKNG_SHIP_TO_STATE      87284 non-null   object \n",
      " 74  BKNG_SHIP_TO_CITY       87193 non-null   object \n",
      " 75  BKNG_SHIP_TO_TEHSIL     71220 non-null   object \n",
      " 76  BKNG_SHIP_TO_VILLAGE    16251 non-null   object \n",
      " 77  BKNG_SHIP_TO_PIN        87012 non-null   float64\n",
      " 78  BKNG_FINCR_BRANCH_NM    97039 non-null   object \n",
      " 79  BKNG_RMRKS              6641 non-null    object \n",
      " 80  BKNG_SRC_FLG            555044 non-null  object \n",
      "dtypes: float64(42), object(39)\n",
      "memory usage: 589.2+ MB\n"
     ]
    }
   ],
   "source": [
    "df.info()"
   ]
  },
  {
   "cell_type": "code",
   "execution_count": 6,
   "metadata": {},
   "outputs": [
    {
     "data": {
      "text/plain": [
       "BKNG_DLR_NO                  1\n",
       "BKNG_NO                      1\n",
       "BKNG_CORP_NO                 1\n",
       "BKNG_CMPN_NO                 1\n",
       "BKNG_DATE                    1\n",
       "                         ...  \n",
       "BKNG_SHIP_TO_VILLAGE    937138\n",
       "BKNG_SHIP_TO_PIN        866377\n",
       "BKNG_FINCR_BRANCH_NM    856350\n",
       "BKNG_RMRKS              946748\n",
       "BKNG_SRC_FLG            398345\n",
       "Length: 81, dtype: int64"
      ]
     },
     "execution_count": 6,
     "metadata": {},
     "output_type": "execute_result"
    }
   ],
   "source": [
    "#check null values sum\n",
    "df.isna().sum()"
   ]
  },
  {
   "cell_type": "code",
   "execution_count": 7,
   "metadata": {},
   "outputs": [],
   "source": [
    "#append the null values column name in list\n",
    "list = []\n",
    "for i in df:\n",
    "    if df[i].isna().sum() == 953389:\n",
    "        list.append(i)"
   ]
  },
  {
   "cell_type": "code",
   "execution_count": 8,
   "metadata": {},
   "outputs": [
    {
     "data": {
      "text/plain": [
       "['BKNG_FNCE_YN',\n",
       " 'BKNG_FILE_NO',\n",
       " 'BKNG_DO_NO',\n",
       " 'BKNG_IFA_AMT',\n",
       " 'BKNG_INVGT_DATE',\n",
       " 'BKNG_FLGN_DATE',\n",
       " 'BKNG_PADS_DATE',\n",
       " 'BKNG_FNLA_DATE',\n",
       " 'BKNG_INVGT_STAT',\n",
       " 'BKNG_CNCL_TYPE',\n",
       " 'BKNG_CNCL_RMRKS',\n",
       " 'BKNG_CUST_NO',\n",
       " 'BKNG_DO_ISSR_NAME',\n",
       " 'BKNG_DBRS_DATE',\n",
       " 'BKNG_EXPTD_DBRS_DATE',\n",
       " 'BKNG_BRKR_PYMT_AMT',\n",
       " 'BKNG_IFA_DATE']"
      ]
     },
     "execution_count": 8,
     "metadata": {},
     "output_type": "execute_result"
    }
   ],
   "source": [
    "#list with nulls\n",
    "list"
   ]
  },
  {
   "cell_type": "code",
   "execution_count": 9,
   "metadata": {},
   "outputs": [],
   "source": [
    "#drop the colummn having nulls\n",
    "df.drop(['BKNG_FNCE_YN',\n",
    " 'BKNG_FILE_NO',\n",
    " 'BKNG_DO_NO',\n",
    " 'BKNG_IFA_AMT',\n",
    " 'BKNG_INVGT_DATE',\n",
    " 'BKNG_FLGN_DATE',\n",
    " 'BKNG_PADS_DATE',\n",
    " 'BKNG_FNLA_DATE',\n",
    " 'BKNG_INVGT_STAT',\n",
    " 'BKNG_CNCL_TYPE',\n",
    " 'BKNG_CNCL_RMRKS',\n",
    " 'BKNG_DO_ISSR_NAME',\n",
    " 'BKNG_DBRS_DATE',\n",
    " 'BKNG_EXPTD_DBRS_DATE',\n",
    " 'BKNG_BRKR_PYMT_AMT',\n",
    " 'BKNG_IFA_DATE'], axis=1, inplace = True)"
   ]
  },
  {
   "cell_type": "code",
   "execution_count": 10,
   "metadata": {},
   "outputs": [
    {
     "data": {
      "text/plain": [
       "(953389, 65)"
      ]
     },
     "execution_count": 10,
     "metadata": {},
     "output_type": "execute_result"
    }
   ],
   "source": [
    "df.shape"
   ]
  },
  {
   "cell_type": "code",
   "execution_count": 11,
   "metadata": {},
   "outputs": [
    {
     "data": {
      "text/plain": [
       "Index(['BKNG_DLR_NO', 'BKNG_NO', 'BKNG_CORP_NO', 'BKNG_CMPN_NO', 'BKNG_DATE',\n",
       "       'BKNG_MODEL_CODE', 'BKNG_VRNT_CODE', 'BKNG_COLOR_CODE',\n",
       "       'BKNG_EXPCT_DLVRY_DATE', 'BKNG_VRNT_PRICE', 'BKNG_AMT',\n",
       "       'BKNG_RCPT_TOTAL_AMT', 'BKNG_RCPT_CMPLT_YN', 'BKNG_ALCN_DATE',\n",
       "       'BKNG_ALCN_VIN', 'BKNG_FNCE_TYPE', 'BKNG_FNCER_CODE', 'BKNG_DSA_NAME',\n",
       "       'BKNG_LOAN_AMT', 'BKNG_TENOR_NMTHS', 'BKNG_DO_AMT', 'BKNG_DO_DATE',\n",
       "       'BKNG_CNCL_DATE', 'BKNG_ENQRY_NO', 'BKNG_EMP_NO', 'BKNG_CUST_NO',\n",
       "       'BKNG_CRTE_DTIME', 'BKNG_CRTE_EMP_NO', 'BKNG_UPDT_DTIME',\n",
       "       'BKNG_UPDT_EMP_NO', 'BKNG_RADS_DATE', 'BKNG_DO_ISSD_BY',\n",
       "       'BKNG_DO_CMMT_PMNT_DATE', 'BKNG_CMTD_DLVRY_DATE', 'BKNG_RACK_RATE',\n",
       "       'BKNG_DSA_CMSN', 'BKNG_BRKR_PYMT_TYPE', 'BKNG_SALE_TYPE',\n",
       "       'BKNG_ADVNC_EMI', 'BKNG_BASIC_PRICE', 'BKNG_TAX_PRCNT',\n",
       "       'BKNG_EDCE_PRCNT', 'BKNG_HYPO_NAME', 'BKNG_RFND_TOTAL_AMT',\n",
       "       'BKNG_CGST_PRCNT', 'BKNG_SGST_PRCNT', 'BKNG_IGST_PRCNT',\n",
       "       'BKNG_INTCOLOR_CODE', 'BKNG_BILL_TO_NAME', 'BKNG_BILL_TO_ADDR',\n",
       "       'BKNG_BILL_TO_STATE', 'BKNG_BILL_TO_CITY', 'BKNG_BILL_TO_TEHSIL',\n",
       "       'BKNG_BILL_TO_VILLAGE', 'BKNG_BILL_TO_PIN', 'BKNG_SHIP_TO_NAME',\n",
       "       'BKNG_SHIP_TO_ADDR', 'BKNG_SHIP_TO_STATE', 'BKNG_SHIP_TO_CITY',\n",
       "       'BKNG_SHIP_TO_TEHSIL', 'BKNG_SHIP_TO_VILLAGE', 'BKNG_SHIP_TO_PIN',\n",
       "       'BKNG_FINCR_BRANCH_NM', 'BKNG_RMRKS', 'BKNG_SRC_FLG'],\n",
       "      dtype='object')"
      ]
     },
     "execution_count": 11,
     "metadata": {},
     "output_type": "execute_result"
    }
   ],
   "source": [
    "#column after null removal\n",
    "df.columns"
   ]
  },
  {
   "cell_type": "code",
   "execution_count": 12,
   "metadata": {},
   "outputs": [],
   "source": [
    "# list2 = ['BKNG_DLR_NO',\n",
    "#  'BKNG_NO',\n",
    "#  'BKNG_CORP_NO',\n",
    "#  'BKNG_CMPN_NO',\n",
    "#  'BKNG_DATE',\n",
    "#  'BKNG_MODEL_CODE',\n",
    "#  'BKNG_VRNT_CODE',\n",
    "#  'BKNG_COLOR_CODE',\n",
    "#  'BKNG_EXPCT_DLVRY_DATE',\n",
    "#  'BKNG_VRNT_PRICE',\n",
    "#  'BKNG_AMT',\n",
    "#  'BKNG_RCPT_TOTAL_AMT',\n",
    "#  'BKNG_ALCN_DATE',\n",
    "#  'BKNG_FNCE_TYPE',\n",
    "#  'BKNG_FNCE_YN',\n",
    "#  'BKNG_DSA_NAME',\n",
    "#  'BKNG_DO_AMT',\n",
    "#  'BKNG_CNCL_DATE',\n",
    "#  'BKNG_CNCL_RMRKS',\n",
    "#  'BKNG_ENQRY_NO',\n",
    "#  'BKNG_EMP_NO',\n",
    "#  'BKNG_CUST_NO',\n",
    "#  'BKNG_CRTE_DTIME',\n",
    "#  'BKNG_CRTE_EMP_NO',\n",
    "#  'BKNG_UPDT_DTIME',\n",
    "#  'BKNG_CMTD_DLVRY_DATE',\n",
    "#  'BKNG_SALE_TYPE',\n",
    "#  'BKNG_INTCOLOR_CODE',\n",
    "#  'BKNG_BILL_TO_STATE',\n",
    "#  'BKNG_BILL_TO_CITY',\n",
    "#  'BKNG_BILL_TO_TEHSIL',\n",
    "#  'BKNG_BILL_TO_VILLAGE',\n",
    "#  'BKNG_RMRKS',\n",
    "#  'BKNG_SRC_FLG']"
   ]
  },
  {
   "cell_type": "code",
   "execution_count": 13,
   "metadata": {},
   "outputs": [],
   "source": [
    "#comparing the name(from google sheet) and removing extras\n",
    "list3 = []\n",
    "for i in df:\n",
    "    list2 = ['BKNG_DLR_NO',\n",
    " 'BKNG_NO',\n",
    " 'BKNG_CORP_NO',\n",
    " 'BKNG_CMPN_NO',\n",
    " 'BKNG_DATE',\n",
    " 'BKNG_MODEL_CODE',\n",
    " 'BKNG_VRNT_CODE',\n",
    " 'BKNG_COLOR_CODE',\n",
    " 'BKNG_EXPCT_DLVRY_DATE',\n",
    " 'BKNG_VRNT_PRICE',\n",
    " 'BKNG_AMT',\n",
    " 'BKNG_RCPT_TOTAL_AMT',\n",
    " 'BKNG_ALCN_DATE',\n",
    " 'BKNG_FNCE_TYPE',\n",
    " 'BKNG_FNCE_YN',\n",
    " 'BKNG_DSA_NAME',\n",
    " 'BKNG_DO_AMT',\n",
    " 'BKNG_CNCL_DATE',\n",
    " 'BKNG_CNCL_RMRKS',\n",
    " 'BKNG_ENQRY_NO',\n",
    " 'BKNG_EMP_NO',\n",
    " 'BKNG_CUST_NO',\n",
    " 'BKNG_CRTE_DTIME',\n",
    " 'BKNG_CRTE_EMP_NO',\n",
    " 'BKNG_UPDT_DTIME',\n",
    " 'BKNG_CMTD_DLVRY_DATE',\n",
    " 'BKNG_SALE_TYPE',\n",
    " 'BKNG_INTCOLOR_CODE',\n",
    " 'BKNG_BILL_TO_STATE',\n",
    " 'BKNG_BILL_TO_CITY',\n",
    " 'BKNG_BILL_TO_TEHSIL',\n",
    " 'BKNG_BILL_TO_VILLAGE',\n",
    " 'BKNG_RMRKS',\n",
    " 'BKNG_SRC_FLG']\n",
    "    for j in list2:\n",
    "        if i == j:\n",
    "            list3.append(df[i])         #I hadn't taken df list will contain column name"
   ]
  },
  {
   "cell_type": "code",
   "execution_count": 14,
   "metadata": {},
   "outputs": [],
   "source": [
    "updt_df  = pd.DataFrame(list3)"
   ]
  },
  {
   "cell_type": "code",
   "execution_count": 15,
   "metadata": {},
   "outputs": [
    {
     "data": {
      "text/plain": [
       "(32, 953389)"
      ]
     },
     "execution_count": 15,
     "metadata": {},
     "output_type": "execute_result"
    }
   ],
   "source": [
    "updt_df.shape"
   ]
  },
  {
   "cell_type": "code",
   "execution_count": 16,
   "metadata": {},
   "outputs": [],
   "source": [
    "#Transpose the df\n",
    "new_df = updt_df.T"
   ]
  },
  {
   "cell_type": "code",
   "execution_count": 17,
   "metadata": {},
   "outputs": [
    {
     "data": {
      "text/html": [
       "<div>\n",
       "<style scoped>\n",
       "    .dataframe tbody tr th:only-of-type {\n",
       "        vertical-align: middle;\n",
       "    }\n",
       "\n",
       "    .dataframe tbody tr th {\n",
       "        vertical-align: top;\n",
       "    }\n",
       "\n",
       "    .dataframe thead th {\n",
       "        text-align: right;\n",
       "    }\n",
       "</style>\n",
       "<table border=\"1\" class=\"dataframe\">\n",
       "  <thead>\n",
       "    <tr style=\"text-align: right;\">\n",
       "      <th></th>\n",
       "      <th>BKNG_DLR_NO</th>\n",
       "      <th>BKNG_NO</th>\n",
       "      <th>BKNG_CORP_NO</th>\n",
       "      <th>BKNG_CMPN_NO</th>\n",
       "      <th>BKNG_DATE</th>\n",
       "      <th>BKNG_MODEL_CODE</th>\n",
       "      <th>BKNG_VRNT_CODE</th>\n",
       "      <th>BKNG_COLOR_CODE</th>\n",
       "      <th>BKNG_EXPCT_DLVRY_DATE</th>\n",
       "      <th>BKNG_VRNT_PRICE</th>\n",
       "      <th>...</th>\n",
       "      <th>BKNG_UPDT_DTIME</th>\n",
       "      <th>BKNG_CMTD_DLVRY_DATE</th>\n",
       "      <th>BKNG_SALE_TYPE</th>\n",
       "      <th>BKNG_INTCOLOR_CODE</th>\n",
       "      <th>BKNG_BILL_TO_STATE</th>\n",
       "      <th>BKNG_BILL_TO_CITY</th>\n",
       "      <th>BKNG_BILL_TO_TEHSIL</th>\n",
       "      <th>BKNG_BILL_TO_VILLAGE</th>\n",
       "      <th>BKNG_RMRKS</th>\n",
       "      <th>BKNG_SRC_FLG</th>\n",
       "    </tr>\n",
       "  </thead>\n",
       "  <tbody>\n",
       "    <tr>\n",
       "      <th>0</th>\n",
       "      <td>TRDL101</td>\n",
       "      <td>B201900001</td>\n",
       "      <td>A10VA</td>\n",
       "      <td>K</td>\n",
       "      <td>2019-07-16</td>\n",
       "      <td>TI</td>\n",
       "      <td>123.0</td>\n",
       "      <td>GWP</td>\n",
       "      <td>NaN</td>\n",
       "      <td>NaN</td>\n",
       "      <td>...</td>\n",
       "      <td>22-09-19 18:47</td>\n",
       "      <td>NaN</td>\n",
       "      <td>NaN</td>\n",
       "      <td>GYT</td>\n",
       "      <td>NaN</td>\n",
       "      <td>NaN</td>\n",
       "      <td>NaN</td>\n",
       "      <td>NaN</td>\n",
       "      <td>NaN</td>\n",
       "      <td>NaN</td>\n",
       "    </tr>\n",
       "    <tr>\n",
       "      <th>1</th>\n",
       "      <td>TRUP403</td>\n",
       "      <td>B201900002</td>\n",
       "      <td>A10VA</td>\n",
       "      <td>K</td>\n",
       "      <td>2019-07-16</td>\n",
       "      <td>TI</td>\n",
       "      <td>7.0</td>\n",
       "      <td>KDG</td>\n",
       "      <td>NaN</td>\n",
       "      <td>0.0</td>\n",
       "      <td>...</td>\n",
       "      <td>26-08-19 14:19</td>\n",
       "      <td>NaN</td>\n",
       "      <td>NaN</td>\n",
       "      <td>WK</td>\n",
       "      <td>UTTAR PRADESH</td>\n",
       "      <td>Ghaziabad</td>\n",
       "      <td>Ghaziabad</td>\n",
       "      <td>NaN</td>\n",
       "      <td>NaN</td>\n",
       "      <td>NaN</td>\n",
       "    </tr>\n",
       "    <tr>\n",
       "      <th>2</th>\n",
       "      <td>TRUP403</td>\n",
       "      <td>B201900003</td>\n",
       "      <td>A10VA</td>\n",
       "      <td>K</td>\n",
       "      <td>2019-07-16</td>\n",
       "      <td>TI</td>\n",
       "      <td>123.0</td>\n",
       "      <td>A6R</td>\n",
       "      <td>NaN</td>\n",
       "      <td>0.0</td>\n",
       "      <td>...</td>\n",
       "      <td>06-09-19 15:25</td>\n",
       "      <td>NaN</td>\n",
       "      <td>NaN</td>\n",
       "      <td>WK</td>\n",
       "      <td>UTTAR PRADESH</td>\n",
       "      <td>NOIDA</td>\n",
       "      <td>Noida</td>\n",
       "      <td>NaN</td>\n",
       "      <td>NaN</td>\n",
       "      <td>NaN</td>\n",
       "    </tr>\n",
       "    <tr>\n",
       "      <th>3</th>\n",
       "      <td>TRTN403</td>\n",
       "      <td>B201900001</td>\n",
       "      <td>A10VA</td>\n",
       "      <td>K</td>\n",
       "      <td>2019-07-16</td>\n",
       "      <td>TI</td>\n",
       "      <td>6.0</td>\n",
       "      <td>GWP</td>\n",
       "      <td>NaN</td>\n",
       "      <td>0.0</td>\n",
       "      <td>...</td>\n",
       "      <td>24-01-20 00:15</td>\n",
       "      <td>NaN</td>\n",
       "      <td>NaN</td>\n",
       "      <td>WK</td>\n",
       "      <td>NaN</td>\n",
       "      <td>NaN</td>\n",
       "      <td>NaN</td>\n",
       "      <td>NaN</td>\n",
       "      <td>NaN</td>\n",
       "      <td>NaN</td>\n",
       "    </tr>\n",
       "    <tr>\n",
       "      <th>4</th>\n",
       "      <td>TRDL404</td>\n",
       "      <td>B201900004</td>\n",
       "      <td>A10VA</td>\n",
       "      <td>K</td>\n",
       "      <td>2019-07-16</td>\n",
       "      <td>TI</td>\n",
       "      <td>208.0</td>\n",
       "      <td>GWP</td>\n",
       "      <td>NaN</td>\n",
       "      <td>1699000.0</td>\n",
       "      <td>...</td>\n",
       "      <td>23-10-19 15:58</td>\n",
       "      <td>NaN</td>\n",
       "      <td>50.0</td>\n",
       "      <td>GYT</td>\n",
       "      <td>NaN</td>\n",
       "      <td>NaN</td>\n",
       "      <td>NaN</td>\n",
       "      <td>NaN</td>\n",
       "      <td>NaN</td>\n",
       "      <td>NaN</td>\n",
       "    </tr>\n",
       "    <tr>\n",
       "      <th>...</th>\n",
       "      <td>...</td>\n",
       "      <td>...</td>\n",
       "      <td>...</td>\n",
       "      <td>...</td>\n",
       "      <td>...</td>\n",
       "      <td>...</td>\n",
       "      <td>...</td>\n",
       "      <td>...</td>\n",
       "      <td>...</td>\n",
       "      <td>...</td>\n",
       "      <td>...</td>\n",
       "      <td>...</td>\n",
       "      <td>...</td>\n",
       "      <td>...</td>\n",
       "      <td>...</td>\n",
       "      <td>...</td>\n",
       "      <td>...</td>\n",
       "      <td>...</td>\n",
       "      <td>...</td>\n",
       "      <td>...</td>\n",
       "      <td>...</td>\n",
       "    </tr>\n",
       "    <tr>\n",
       "      <th>953384</th>\n",
       "      <td>TRMH104</td>\n",
       "      <td>B202206106</td>\n",
       "      <td>A10VA</td>\n",
       "      <td>K</td>\n",
       "      <td>2022-08-07</td>\n",
       "      <td>TI</td>\n",
       "      <td>123.0</td>\n",
       "      <td>A6R</td>\n",
       "      <td>NaN</td>\n",
       "      <td>0.0</td>\n",
       "      <td>...</td>\n",
       "      <td>07-08-22 18:48</td>\n",
       "      <td>NaN</td>\n",
       "      <td>NaN</td>\n",
       "      <td>GYT</td>\n",
       "      <td>NaN</td>\n",
       "      <td>NaN</td>\n",
       "      <td>NaN</td>\n",
       "      <td>NaN</td>\n",
       "      <td>NaN</td>\n",
       "      <td>MOB</td>\n",
       "    </tr>\n",
       "    <tr>\n",
       "      <th>953385</th>\n",
       "      <td>TRDL407</td>\n",
       "      <td>B202207751</td>\n",
       "      <td>A10VA</td>\n",
       "      <td>K</td>\n",
       "      <td>2022-08-07</td>\n",
       "      <td>SX</td>\n",
       "      <td>322.0</td>\n",
       "      <td>A6R</td>\n",
       "      <td>NaN</td>\n",
       "      <td>0.0</td>\n",
       "      <td>...</td>\n",
       "      <td>07-08-22 18:54</td>\n",
       "      <td>NaN</td>\n",
       "      <td>NaN</td>\n",
       "      <td>WK</td>\n",
       "      <td>NaN</td>\n",
       "      <td>NaN</td>\n",
       "      <td>NaN</td>\n",
       "      <td>NaN</td>\n",
       "      <td>NaN</td>\n",
       "      <td>MOB</td>\n",
       "    </tr>\n",
       "    <tr>\n",
       "      <th>953386</th>\n",
       "      <td>TRHR304</td>\n",
       "      <td>B202207491</td>\n",
       "      <td>A10VA</td>\n",
       "      <td>K</td>\n",
       "      <td>2022-08-07</td>\n",
       "      <td>SX</td>\n",
       "      <td>322.0</td>\n",
       "      <td>A6R</td>\n",
       "      <td>NaN</td>\n",
       "      <td>0.0</td>\n",
       "      <td>...</td>\n",
       "      <td>07-08-22 19:32</td>\n",
       "      <td>NaN</td>\n",
       "      <td>NaN</td>\n",
       "      <td>WK</td>\n",
       "      <td>NaN</td>\n",
       "      <td>NaN</td>\n",
       "      <td>NaN</td>\n",
       "      <td>NaN</td>\n",
       "      <td>NaN</td>\n",
       "      <td>MOB</td>\n",
       "    </tr>\n",
       "    <tr>\n",
       "      <th>953387</th>\n",
       "      <td>TRKA301</td>\n",
       "      <td>B202208498</td>\n",
       "      <td>A10VA</td>\n",
       "      <td>K</td>\n",
       "      <td>2022-08-07</td>\n",
       "      <td>SX</td>\n",
       "      <td>279.0</td>\n",
       "      <td>KCS</td>\n",
       "      <td>NaN</td>\n",
       "      <td>0.0</td>\n",
       "      <td>...</td>\n",
       "      <td>07-08-22 19:41</td>\n",
       "      <td>NaN</td>\n",
       "      <td>NaN</td>\n",
       "      <td>GYT</td>\n",
       "      <td>NaN</td>\n",
       "      <td>NaN</td>\n",
       "      <td>NaN</td>\n",
       "      <td>NaN</td>\n",
       "      <td>NaN</td>\n",
       "      <td>MOB</td>\n",
       "    </tr>\n",
       "    <tr>\n",
       "      <th>953388</th>\n",
       "      <td>TRMH406</td>\n",
       "      <td>B202204927</td>\n",
       "      <td>A10VA</td>\n",
       "      <td>K</td>\n",
       "      <td>2022-08-07</td>\n",
       "      <td>SX</td>\n",
       "      <td>304.0</td>\n",
       "      <td>GWP</td>\n",
       "      <td>NaN</td>\n",
       "      <td>0.0</td>\n",
       "      <td>...</td>\n",
       "      <td>07-08-22 19:59</td>\n",
       "      <td>NaN</td>\n",
       "      <td>NaN</td>\n",
       "      <td>GYT</td>\n",
       "      <td>NaN</td>\n",
       "      <td>NaN</td>\n",
       "      <td>NaN</td>\n",
       "      <td>NaN</td>\n",
       "      <td>NaN</td>\n",
       "      <td>MOB</td>\n",
       "    </tr>\n",
       "  </tbody>\n",
       "</table>\n",
       "<p>953389 rows × 32 columns</p>\n",
       "</div>"
      ],
      "text/plain": [
       "       BKNG_DLR_NO     BKNG_NO BKNG_CORP_NO BKNG_CMPN_NO   BKNG_DATE  \\\n",
       "0          TRDL101  B201900001        A10VA            K  2019-07-16   \n",
       "1          TRUP403  B201900002        A10VA            K  2019-07-16   \n",
       "2          TRUP403  B201900003        A10VA            K  2019-07-16   \n",
       "3          TRTN403  B201900001        A10VA            K  2019-07-16   \n",
       "4          TRDL404  B201900004        A10VA            K  2019-07-16   \n",
       "...            ...         ...          ...          ...         ...   \n",
       "953384     TRMH104  B202206106        A10VA            K  2022-08-07   \n",
       "953385     TRDL407  B202207751        A10VA            K  2022-08-07   \n",
       "953386     TRHR304  B202207491        A10VA            K  2022-08-07   \n",
       "953387     TRKA301  B202208498        A10VA            K  2022-08-07   \n",
       "953388     TRMH406  B202204927        A10VA            K  2022-08-07   \n",
       "\n",
       "       BKNG_MODEL_CODE BKNG_VRNT_CODE BKNG_COLOR_CODE BKNG_EXPCT_DLVRY_DATE  \\\n",
       "0                   TI          123.0             GWP                   NaN   \n",
       "1                   TI            7.0             KDG                   NaN   \n",
       "2                   TI          123.0             A6R                   NaN   \n",
       "3                   TI            6.0             GWP                   NaN   \n",
       "4                   TI          208.0             GWP                   NaN   \n",
       "...                ...            ...             ...                   ...   \n",
       "953384              TI          123.0             A6R                   NaN   \n",
       "953385              SX          322.0             A6R                   NaN   \n",
       "953386              SX          322.0             A6R                   NaN   \n",
       "953387              SX          279.0             KCS                   NaN   \n",
       "953388              SX          304.0             GWP                   NaN   \n",
       "\n",
       "       BKNG_VRNT_PRICE  ... BKNG_UPDT_DTIME BKNG_CMTD_DLVRY_DATE  \\\n",
       "0                  NaN  ...  22-09-19 18:47                  NaN   \n",
       "1                  0.0  ...  26-08-19 14:19                  NaN   \n",
       "2                  0.0  ...  06-09-19 15:25                  NaN   \n",
       "3                  0.0  ...  24-01-20 00:15                  NaN   \n",
       "4            1699000.0  ...  23-10-19 15:58                  NaN   \n",
       "...                ...  ...             ...                  ...   \n",
       "953384             0.0  ...  07-08-22 18:48                  NaN   \n",
       "953385             0.0  ...  07-08-22 18:54                  NaN   \n",
       "953386             0.0  ...  07-08-22 19:32                  NaN   \n",
       "953387             0.0  ...  07-08-22 19:41                  NaN   \n",
       "953388             0.0  ...  07-08-22 19:59                  NaN   \n",
       "\n",
       "       BKNG_SALE_TYPE BKNG_INTCOLOR_CODE BKNG_BILL_TO_STATE BKNG_BILL_TO_CITY  \\\n",
       "0                 NaN                GYT                NaN               NaN   \n",
       "1                 NaN                 WK      UTTAR PRADESH         Ghaziabad   \n",
       "2                 NaN                 WK      UTTAR PRADESH             NOIDA   \n",
       "3                 NaN                 WK                NaN               NaN   \n",
       "4                50.0                GYT                NaN               NaN   \n",
       "...               ...                ...                ...               ...   \n",
       "953384            NaN                GYT                NaN               NaN   \n",
       "953385            NaN                 WK                NaN               NaN   \n",
       "953386            NaN                 WK                NaN               NaN   \n",
       "953387            NaN                GYT                NaN               NaN   \n",
       "953388            NaN                GYT                NaN               NaN   \n",
       "\n",
       "       BKNG_BILL_TO_TEHSIL BKNG_BILL_TO_VILLAGE BKNG_RMRKS BKNG_SRC_FLG  \n",
       "0                      NaN                  NaN        NaN          NaN  \n",
       "1                Ghaziabad                  NaN        NaN          NaN  \n",
       "2                    Noida                  NaN        NaN          NaN  \n",
       "3                      NaN                  NaN        NaN          NaN  \n",
       "4                      NaN                  NaN        NaN          NaN  \n",
       "...                    ...                  ...        ...          ...  \n",
       "953384                 NaN                  NaN        NaN          MOB  \n",
       "953385                 NaN                  NaN        NaN          MOB  \n",
       "953386                 NaN                  NaN        NaN          MOB  \n",
       "953387                 NaN                  NaN        NaN          MOB  \n",
       "953388                 NaN                  NaN        NaN          MOB  \n",
       "\n",
       "[953389 rows x 32 columns]"
      ]
     },
     "execution_count": 17,
     "metadata": {},
     "output_type": "execute_result"
    }
   ],
   "source": [
    "new_df"
   ]
  },
  {
   "cell_type": "code",
   "execution_count": 18,
   "metadata": {},
   "outputs": [
    {
     "data": {
      "text/plain": [
       "(953389, 32)"
      ]
     },
     "execution_count": 18,
     "metadata": {},
     "output_type": "execute_result"
    }
   ],
   "source": [
    "new_df.shape"
   ]
  },
  {
   "cell_type": "code",
   "execution_count": 19,
   "metadata": {},
   "outputs": [],
   "source": [
    "column_indices = [0,\n",
    " 1,\n",
    " 2,\n",
    " 3,\n",
    " 4,\n",
    " 5,\n",
    " 6,\n",
    " 7,\n",
    " 8,\n",
    " 9,\n",
    " 10,\n",
    " 11,\n",
    " 12,\n",
    " 13,\n",
    " 14,\n",
    " 15,\n",
    " 16,\n",
    " 17,\n",
    " 18,\n",
    " 19,\n",
    " 20,\n",
    " 21,\n",
    " 22,\n",
    " 23,\n",
    " 24,\n",
    " 25,\n",
    " 26,\n",
    " 27,\n",
    " 28,\n",
    " 29,\n",
    " 30,\n",
    " 31]\n",
    "new_names = ['Dealer_No',\n",
    " 'Booking_No',\n",
    " 'Corporation_No',\n",
    " 'Company_No',\n",
    " 'BKNG_DATE',\n",
    " 'Model_Code',\n",
    " 'TRIM_Code',\n",
    " 'Ext.Colour_Code',\n",
    " 'BKNG_EXPCT_DLVRY_DATE',\n",
    " 'BKNG_VRNT_PRICE',\n",
    " 'BKNG_AMT',\n",
    " 'BKNG_RCPT_TOTAL_AMT',\n",
    " 'BKNG_ALCN_DATE',\n",
    " 'BKNG_FNCE_TYPE',\n",
    " 'BKNG_DSA_NAME',\n",
    " 'BKNG_DO_AMT',\n",
    " 'BKNG_CNCL_DATE',\n",
    " 'Link_Enquiry_No',\n",
    " 'BKNG_EMP_NO',\n",
    " 'Customer_No',\n",
    " 'BKNG_CRTE_DTIME',\n",
    " 'BKNG_CRTE_EMP_NO',\n",
    " 'BKNG_UPDT_DTIME',\n",
    " 'BKNG_CMTD_DLVRY_DATE',\n",
    " 'BKNG_SALE_TYPE',\n",
    " 'Int.Colour_Code',\n",
    " 'BKNG_BILL_TO_STATE',\n",
    " 'BKNG_BILL_TO_CITY',\n",
    " 'BKNG_BILL_TO_TEHSIL',\n",
    " 'BKNG_BILL_TO_VILLAGE',\n",
    " 'BKNG_RMRKS',\n",
    " 'BKNG_SRC_FLG']\n",
    "old_names = new_df.columns[column_indices]\n",
    "new_df.rename(columns=dict(zip(old_names, new_names)), inplace=True)"
   ]
  },
  {
   "cell_type": "code",
   "execution_count": 20,
   "metadata": {},
   "outputs": [
    {
     "name": "stdout",
     "output_type": "stream",
     "text": [
      "<class 'pandas.core.frame.DataFrame'>\n",
      "RangeIndex: 953389 entries, 0 to 953388\n",
      "Data columns (total 32 columns):\n",
      " #   Column                 Non-Null Count   Dtype \n",
      "---  ------                 --------------   ----- \n",
      " 0   Dealer_No              953388 non-null  object\n",
      " 1   Booking_No             953388 non-null  object\n",
      " 2   Corporation_No         953388 non-null  object\n",
      " 3   Company_No             953388 non-null  object\n",
      " 4   BKNG_DATE              953388 non-null  object\n",
      " 5   Model_Code             953388 non-null  object\n",
      " 6   TRIM_Code              953388 non-null  object\n",
      " 7   Ext.Colour_Code        953387 non-null  object\n",
      " 8   BKNG_EXPCT_DLVRY_DATE  167443 non-null  object\n",
      " 9   BKNG_VRNT_PRICE        942063 non-null  object\n",
      " 10  BKNG_AMT               17799 non-null   object\n",
      " 11  BKNG_RCPT_TOTAL_AMT    906449 non-null  object\n",
      " 12  BKNG_ALCN_DATE         507786 non-null  object\n",
      " 13  BKNG_FNCE_TYPE         943447 non-null  object\n",
      " 14  BKNG_DSA_NAME          6473 non-null    object\n",
      " 15  BKNG_DO_AMT            26839 non-null   object\n",
      " 16  BKNG_CNCL_DATE         1906 non-null    object\n",
      " 17  Link_Enquiry_No        953388 non-null  object\n",
      " 18  BKNG_EMP_NO            1 non-null       object\n",
      " 19  Customer_No            0 non-null       object\n",
      " 20  BKNG_CRTE_DTIME        953388 non-null  object\n",
      " 21  BKNG_CRTE_EMP_NO       953388 non-null  object\n",
      " 22  BKNG_UPDT_DTIME        953388 non-null  object\n",
      " 23  BKNG_CMTD_DLVRY_DATE   170220 non-null  object\n",
      " 24  BKNG_SALE_TYPE         518116 non-null  object\n",
      " 25  Int.Colour_Code        953378 non-null  object\n",
      " 26  BKNG_BILL_TO_STATE     110381 non-null  object\n",
      " 27  BKNG_BILL_TO_CITY      110365 non-null  object\n",
      " 28  BKNG_BILL_TO_TEHSIL    104185 non-null  object\n",
      " 29  BKNG_BILL_TO_VILLAGE   16487 non-null   object\n",
      " 30  BKNG_RMRKS             6641 non-null    object\n",
      " 31  BKNG_SRC_FLG           555044 non-null  object\n",
      "dtypes: object(32)\n",
      "memory usage: 232.8+ MB\n"
     ]
    }
   ],
   "source": [
    "new_df.info()"
   ]
  },
  {
   "cell_type": "code",
   "execution_count": 21,
   "metadata": {},
   "outputs": [
    {
     "data": {
      "text/plain": [
       "(953389, 32)"
      ]
     },
     "execution_count": 21,
     "metadata": {},
     "output_type": "execute_result"
    }
   ],
   "source": [
    "new_df.shape"
   ]
  },
  {
   "cell_type": "code",
   "execution_count": 22,
   "metadata": {},
   "outputs": [
    {
     "data": {
      "text/plain": [
       "0         25000.0\n",
       "1             NaN\n",
       "2             NaN\n",
       "3             NaN\n",
       "4             NaN\n",
       "           ...   \n",
       "953384        NaN\n",
       "953385        NaN\n",
       "953386        NaN\n",
       "953387        NaN\n",
       "953388        NaN\n",
       "Name: BKNG_AMT, Length: 953389, dtype: object"
      ]
     },
     "execution_count": 22,
     "metadata": {},
     "output_type": "execute_result"
    }
   ],
   "source": [
    "new_df['BKNG_AMT']"
   ]
  },
  {
   "cell_type": "code",
   "execution_count": 23,
   "metadata": {},
   "outputs": [],
   "source": [
    "new_df['BKNG_AMT'] = new_df['BKNG_AMT'].fillna(0)"
   ]
  },
  {
   "cell_type": "code",
   "execution_count": 24,
   "metadata": {},
   "outputs": [
    {
     "data": {
      "text/plain": [
       "0         25000.0\n",
       "1             0.0\n",
       "2             0.0\n",
       "3             0.0\n",
       "4             0.0\n",
       "           ...   \n",
       "953384        0.0\n",
       "953385        0.0\n",
       "953386        0.0\n",
       "953387        0.0\n",
       "953388        0.0\n",
       "Name: BKNG_AMT, Length: 953389, dtype: float64"
      ]
     },
     "execution_count": 24,
     "metadata": {},
     "output_type": "execute_result"
    }
   ],
   "source": [
    "new_df['BKNG_AMT']"
   ]
  },
  {
   "cell_type": "code",
   "execution_count": 25,
   "metadata": {},
   "outputs": [],
   "source": [
    "new_df[\"BKNG_AMT\"] = new_df[\"BKNG_AMT\"].astype(int)"
   ]
  },
  {
   "cell_type": "code",
   "execution_count": 26,
   "metadata": {},
   "outputs": [
    {
     "data": {
      "text/plain": [
       "0         25000\n",
       "1             0\n",
       "2             0\n",
       "3             0\n",
       "4             0\n",
       "          ...  \n",
       "953384        0\n",
       "953385        0\n",
       "953386        0\n",
       "953387        0\n",
       "953388        0\n",
       "Name: BKNG_AMT, Length: 953389, dtype: int32"
      ]
     },
     "execution_count": 26,
     "metadata": {},
     "output_type": "execute_result"
    }
   ],
   "source": [
    "new_df['BKNG_AMT']"
   ]
  },
  {
   "cell_type": "code",
   "execution_count": 27,
   "metadata": {},
   "outputs": [],
   "source": [
    "new_df.rename(columns={\"BKNG_AMT\":\"Booking_Amt\"},inplace = True)"
   ]
  },
  {
   "cell_type": "code",
   "execution_count": 28,
   "metadata": {},
   "outputs": [
    {
     "data": {
      "text/plain": [
       "0         25000\n",
       "1             0\n",
       "2             0\n",
       "3             0\n",
       "4             0\n",
       "          ...  \n",
       "953384        0\n",
       "953385        0\n",
       "953386        0\n",
       "953387        0\n",
       "953388        0\n",
       "Name: Booking_Amt, Length: 953389, dtype: int32"
      ]
     },
     "execution_count": 28,
     "metadata": {},
     "output_type": "execute_result"
    }
   ],
   "source": [
    "new_df['Booking_Amt']"
   ]
  },
  {
   "cell_type": "code",
   "execution_count": 29,
   "metadata": {},
   "outputs": [
    {
     "name": "stdout",
     "output_type": "stream",
     "text": [
      "<class 'pandas.core.frame.DataFrame'>\n",
      "RangeIndex: 953389 entries, 0 to 953388\n",
      "Data columns (total 32 columns):\n",
      " #   Column                 Non-Null Count   Dtype \n",
      "---  ------                 --------------   ----- \n",
      " 0   Dealer_No              953388 non-null  object\n",
      " 1   Booking_No             953388 non-null  object\n",
      " 2   Corporation_No         953388 non-null  object\n",
      " 3   Company_No             953388 non-null  object\n",
      " 4   BKNG_DATE              953388 non-null  object\n",
      " 5   Model_Code             953388 non-null  object\n",
      " 6   TRIM_Code              953388 non-null  object\n",
      " 7   Ext.Colour_Code        953387 non-null  object\n",
      " 8   BKNG_EXPCT_DLVRY_DATE  167443 non-null  object\n",
      " 9   BKNG_VRNT_PRICE        942063 non-null  object\n",
      " 10  Booking_Amt            953389 non-null  int32 \n",
      " 11  BKNG_RCPT_TOTAL_AMT    906449 non-null  object\n",
      " 12  BKNG_ALCN_DATE         507786 non-null  object\n",
      " 13  BKNG_FNCE_TYPE         943447 non-null  object\n",
      " 14  BKNG_DSA_NAME          6473 non-null    object\n",
      " 15  BKNG_DO_AMT            26839 non-null   object\n",
      " 16  BKNG_CNCL_DATE         1906 non-null    object\n",
      " 17  Link_Enquiry_No        953388 non-null  object\n",
      " 18  BKNG_EMP_NO            1 non-null       object\n",
      " 19  Customer_No            0 non-null       object\n",
      " 20  BKNG_CRTE_DTIME        953388 non-null  object\n",
      " 21  BKNG_CRTE_EMP_NO       953388 non-null  object\n",
      " 22  BKNG_UPDT_DTIME        953388 non-null  object\n",
      " 23  BKNG_CMTD_DLVRY_DATE   170220 non-null  object\n",
      " 24  BKNG_SALE_TYPE         518116 non-null  object\n",
      " 25  Int.Colour_Code        953378 non-null  object\n",
      " 26  BKNG_BILL_TO_STATE     110381 non-null  object\n",
      " 27  BKNG_BILL_TO_CITY      110365 non-null  object\n",
      " 28  BKNG_BILL_TO_TEHSIL    104185 non-null  object\n",
      " 29  BKNG_BILL_TO_VILLAGE   16487 non-null   object\n",
      " 30  BKNG_RMRKS             6641 non-null    object\n",
      " 31  BKNG_SRC_FLG           555044 non-null  object\n",
      "dtypes: int32(1), object(31)\n",
      "memory usage: 229.1+ MB\n"
     ]
    }
   ],
   "source": [
    "new_df.info()"
   ]
  },
  {
   "cell_type": "code",
   "execution_count": 30,
   "metadata": {},
   "outputs": [],
   "source": [
    "new_df[\"BKNG_SRC_FLG\"] = new_df[\"BKNG_SRC_FLG\"].astype(str)"
   ]
  },
  {
   "cell_type": "code",
   "execution_count": 31,
   "metadata": {},
   "outputs": [
    {
     "data": {
      "text/plain": [
       "0         nan\n",
       "1         nan\n",
       "2         nan\n",
       "3         nan\n",
       "4         nan\n",
       "         ... \n",
       "953384    MOB\n",
       "953385    MOB\n",
       "953386    MOB\n",
       "953387    MOB\n",
       "953388    MOB\n",
       "Name: BKNG_SRC_FLG, Length: 953389, dtype: object"
      ]
     },
     "execution_count": 31,
     "metadata": {},
     "output_type": "execute_result"
    }
   ],
   "source": [
    "new_df[\"BKNG_SRC_FLG\"]"
   ]
  },
  {
   "cell_type": "code",
   "execution_count": 32,
   "metadata": {},
   "outputs": [],
   "source": [
    "BKNG_SRC_FLG_list = []\n",
    "for i in new_df[\"BKNG_SRC_FLG\"]:\n",
    "        BKNG_SRC_FLG_list.append(i)"
   ]
  },
  {
   "cell_type": "code",
   "execution_count": 33,
   "metadata": {},
   "outputs": [],
   "source": [
    "for i in range(len(BKNG_SRC_FLG_list)):\n",
    "    if BKNG_SRC_FLG_list[i] == 'MOB':\n",
    "        BKNG_SRC_FLG_list[i] = 'MySales'   "
   ]
  },
  {
   "cell_type": "code",
   "execution_count": 34,
   "metadata": {},
   "outputs": [],
   "source": [
    "for i in range(len(BKNG_SRC_FLG_list)):\n",
    "    if BKNG_SRC_FLG_list[i] != 'nan' and BKNG_SRC_FLG_list[i] != 'MySales':\n",
    "        BKNG_SRC_FLG_list[i] = 'Online'\n",
    "    elif BKNG_SRC_FLG_list[i] == 'nan':\n",
    "        BKNG_SRC_FLG_list[i] = 'DMS'"
   ]
  },
  {
   "cell_type": "code",
   "execution_count": 35,
   "metadata": {},
   "outputs": [],
   "source": [
    "# BKNG_SRC_FLG_list[-50:-1]"
   ]
  },
  {
   "cell_type": "code",
   "execution_count": 36,
   "metadata": {},
   "outputs": [],
   "source": [
    "# for i in range(len(BKNG_SRC_FLG_list)):\n",
    "#     if BKNG_SRC_FLG_list[i] == 'Online':\n",
    "#         print(i)"
   ]
  },
  {
   "cell_type": "code",
   "execution_count": 37,
   "metadata": {},
   "outputs": [],
   "source": [
    "# BKNG_SRC_FLG_list[140602]"
   ]
  },
  {
   "cell_type": "code",
   "execution_count": 38,
   "metadata": {},
   "outputs": [],
   "source": [
    "# new_df.shape"
   ]
  },
  {
   "cell_type": "code",
   "execution_count": 39,
   "metadata": {},
   "outputs": [],
   "source": [
    "new_df['Booking_Source_Type'] = BKNG_SRC_FLG_list"
   ]
  },
  {
   "cell_type": "code",
   "execution_count": 40,
   "metadata": {},
   "outputs": [
    {
     "data": {
      "text/plain": [
       "0             DMS\n",
       "1             DMS\n",
       "2             DMS\n",
       "3             DMS\n",
       "4             DMS\n",
       "           ...   \n",
       "953384    MySales\n",
       "953385    MySales\n",
       "953386    MySales\n",
       "953387    MySales\n",
       "953388    MySales\n",
       "Name: Booking_Source_Type, Length: 953389, dtype: object"
      ]
     },
     "execution_count": 40,
     "metadata": {},
     "output_type": "execute_result"
    }
   ],
   "source": [
    "new_df['Booking_Source_Type']"
   ]
  },
  {
   "cell_type": "code",
   "execution_count": 41,
   "metadata": {
    "scrolled": true
   },
   "outputs": [],
   "source": [
    "# new_df.info()"
   ]
  },
  {
   "cell_type": "code",
   "execution_count": 42,
   "metadata": {},
   "outputs": [],
   "source": [
    "new_df['Booking_Source'] = new_df['BKNG_SRC_FLG'].apply(lambda x: 'MOBILE' if x == 'MOB' else x.upper()) "
   ]
  },
  {
   "cell_type": "code",
   "execution_count": 43,
   "metadata": {},
   "outputs": [
    {
     "data": {
      "text/plain": [
       "0            NAN\n",
       "1            NAN\n",
       "2            NAN\n",
       "3            NAN\n",
       "4            NAN\n",
       "           ...  \n",
       "953384    MOBILE\n",
       "953385    MOBILE\n",
       "953386    MOBILE\n",
       "953387    MOBILE\n",
       "953388    MOBILE\n",
       "Name: Booking_Source, Length: 953389, dtype: object"
      ]
     },
     "execution_count": 43,
     "metadata": {},
     "output_type": "execute_result"
    }
   ],
   "source": [
    "new_df['Booking_Source']"
   ]
  },
  {
   "cell_type": "code",
   "execution_count": 44,
   "metadata": {
    "scrolled": true
   },
   "outputs": [
    {
     "name": "stdout",
     "output_type": "stream",
     "text": [
      "<class 'pandas.core.frame.DataFrame'>\n",
      "RangeIndex: 953389 entries, 0 to 953388\n",
      "Data columns (total 34 columns):\n",
      " #   Column                 Non-Null Count   Dtype \n",
      "---  ------                 --------------   ----- \n",
      " 0   Dealer_No              953388 non-null  object\n",
      " 1   Booking_No             953388 non-null  object\n",
      " 2   Corporation_No         953388 non-null  object\n",
      " 3   Company_No             953388 non-null  object\n",
      " 4   BKNG_DATE              953388 non-null  object\n",
      " 5   Model_Code             953388 non-null  object\n",
      " 6   TRIM_Code              953388 non-null  object\n",
      " 7   Ext.Colour_Code        953387 non-null  object\n",
      " 8   BKNG_EXPCT_DLVRY_DATE  167443 non-null  object\n",
      " 9   BKNG_VRNT_PRICE        942063 non-null  object\n",
      " 10  Booking_Amt            953389 non-null  int32 \n",
      " 11  BKNG_RCPT_TOTAL_AMT    906449 non-null  object\n",
      " 12  BKNG_ALCN_DATE         507786 non-null  object\n",
      " 13  BKNG_FNCE_TYPE         943447 non-null  object\n",
      " 14  BKNG_DSA_NAME          6473 non-null    object\n",
      " 15  BKNG_DO_AMT            26839 non-null   object\n",
      " 16  BKNG_CNCL_DATE         1906 non-null    object\n",
      " 17  Link_Enquiry_No        953388 non-null  object\n",
      " 18  BKNG_EMP_NO            1 non-null       object\n",
      " 19  Customer_No            0 non-null       object\n",
      " 20  BKNG_CRTE_DTIME        953388 non-null  object\n",
      " 21  BKNG_CRTE_EMP_NO       953388 non-null  object\n",
      " 22  BKNG_UPDT_DTIME        953388 non-null  object\n",
      " 23  BKNG_CMTD_DLVRY_DATE   170220 non-null  object\n",
      " 24  BKNG_SALE_TYPE         518116 non-null  object\n",
      " 25  Int.Colour_Code        953378 non-null  object\n",
      " 26  BKNG_BILL_TO_STATE     110381 non-null  object\n",
      " 27  BKNG_BILL_TO_CITY      110365 non-null  object\n",
      " 28  BKNG_BILL_TO_TEHSIL    104185 non-null  object\n",
      " 29  BKNG_BILL_TO_VILLAGE   16487 non-null   object\n",
      " 30  BKNG_RMRKS             6641 non-null    object\n",
      " 31  BKNG_SRC_FLG           953389 non-null  object\n",
      " 32  Booking_Source_Type    953389 non-null  object\n",
      " 33  Booking_Source         953389 non-null  object\n",
      "dtypes: int32(1), object(33)\n",
      "memory usage: 243.7+ MB\n"
     ]
    }
   ],
   "source": [
    "new_df.info()"
   ]
  },
  {
   "cell_type": "code",
   "execution_count": 45,
   "metadata": {},
   "outputs": [],
   "source": [
    "new_df['Dealer_Booking'] = new_df['Dealer_No']+new_df['Booking_No']"
   ]
  },
  {
   "cell_type": "code",
   "execution_count": 46,
   "metadata": {},
   "outputs": [
    {
     "data": {
      "text/plain": [
       "0         TRDL101B201900001\n",
       "1         TRUP403B201900002\n",
       "2         TRUP403B201900003\n",
       "3         TRTN403B201900001\n",
       "4         TRDL404B201900004\n",
       "                ...        \n",
       "953384    TRMH104B202206106\n",
       "953385    TRDL407B202207751\n",
       "953386    TRHR304B202207491\n",
       "953387    TRKA301B202208498\n",
       "953388    TRMH406B202204927\n",
       "Name: Dealer_Booking, Length: 953389, dtype: object"
      ]
     },
     "execution_count": 46,
     "metadata": {},
     "output_type": "execute_result"
    }
   ],
   "source": [
    "new_df['Dealer_Booking']"
   ]
  },
  {
   "cell_type": "code",
   "execution_count": 47,
   "metadata": {},
   "outputs": [
    {
     "name": "stdout",
     "output_type": "stream",
     "text": [
      "<class 'pandas.core.frame.DataFrame'>\n",
      "RangeIndex: 953389 entries, 0 to 953388\n",
      "Data columns (total 35 columns):\n",
      " #   Column                 Non-Null Count   Dtype \n",
      "---  ------                 --------------   ----- \n",
      " 0   Dealer_No              953388 non-null  object\n",
      " 1   Booking_No             953388 non-null  object\n",
      " 2   Corporation_No         953388 non-null  object\n",
      " 3   Company_No             953388 non-null  object\n",
      " 4   BKNG_DATE              953388 non-null  object\n",
      " 5   Model_Code             953388 non-null  object\n",
      " 6   TRIM_Code              953388 non-null  object\n",
      " 7   Ext.Colour_Code        953387 non-null  object\n",
      " 8   BKNG_EXPCT_DLVRY_DATE  167443 non-null  object\n",
      " 9   BKNG_VRNT_PRICE        942063 non-null  object\n",
      " 10  Booking_Amt            953389 non-null  int32 \n",
      " 11  BKNG_RCPT_TOTAL_AMT    906449 non-null  object\n",
      " 12  BKNG_ALCN_DATE         507786 non-null  object\n",
      " 13  BKNG_FNCE_TYPE         943447 non-null  object\n",
      " 14  BKNG_DSA_NAME          6473 non-null    object\n",
      " 15  BKNG_DO_AMT            26839 non-null   object\n",
      " 16  BKNG_CNCL_DATE         1906 non-null    object\n",
      " 17  Link_Enquiry_No        953388 non-null  object\n",
      " 18  BKNG_EMP_NO            1 non-null       object\n",
      " 19  Customer_No            0 non-null       object\n",
      " 20  BKNG_CRTE_DTIME        953388 non-null  object\n",
      " 21  BKNG_CRTE_EMP_NO       953388 non-null  object\n",
      " 22  BKNG_UPDT_DTIME        953388 non-null  object\n",
      " 23  BKNG_CMTD_DLVRY_DATE   170220 non-null  object\n",
      " 24  BKNG_SALE_TYPE         518116 non-null  object\n",
      " 25  Int.Colour_Code        953378 non-null  object\n",
      " 26  BKNG_BILL_TO_STATE     110381 non-null  object\n",
      " 27  BKNG_BILL_TO_CITY      110365 non-null  object\n",
      " 28  BKNG_BILL_TO_TEHSIL    104185 non-null  object\n",
      " 29  BKNG_BILL_TO_VILLAGE   16487 non-null   object\n",
      " 30  BKNG_RMRKS             6641 non-null    object\n",
      " 31  BKNG_SRC_FLG           953389 non-null  object\n",
      " 32  Booking_Source_Type    953389 non-null  object\n",
      " 33  Booking_Source         953389 non-null  object\n",
      " 34  Dealer_Booking         953387 non-null  object\n",
      "dtypes: int32(1), object(34)\n",
      "memory usage: 250.9+ MB\n"
     ]
    }
   ],
   "source": [
    "new_df.info()"
   ]
  },
  {
   "cell_type": "code",
   "execution_count": 48,
   "metadata": {},
   "outputs": [],
   "source": [
    "# new_df.to_csv(\"C:\\\\Users\\\\15442\\\\Desktop\\\\Files\\\\ETL Through Code\\\\Modified files\\\\Stage1_Sales_SAL_SOBKNG_TB(m).csv\",index=False)"
   ]
  },
  {
   "cell_type": "code",
   "execution_count": 49,
   "metadata": {},
   "outputs": [],
   "source": [
    "# new_df['Booking_Source_Type'] = new_df['BKNG_SRC_FLG']\n",
    "\n"
   ]
  },
  {
   "cell_type": "code",
   "execution_count": 50,
   "metadata": {},
   "outputs": [],
   "source": [
    "# new_df['BKNG_SRC_FLG']"
   ]
  },
  {
   "cell_type": "code",
   "execution_count": 51,
   "metadata": {},
   "outputs": [],
   "source": [
    "# new_df['Booking_Source_Type']"
   ]
  },
  {
   "cell_type": "code",
   "execution_count": 52,
   "metadata": {},
   "outputs": [],
   "source": [
    "# if (new_df['Booking_Source_Type'].str.len() > 0):\n",
    "#     if (new_df['Booking_Source_Type'] != 'MOB'):\n",
    "#          new_df['Booking_Source_Type'] = 'Online'"
   ]
  },
  {
   "cell_type": "code",
   "execution_count": 53,
   "metadata": {},
   "outputs": [],
   "source": [
    "# new_df.loc[new_df['Booking_Source_Type'] == \"MOB\", \"Booking_Source_Type\"] = 'MySales'\n",
    "# ------------------------------------------------------------------------------------------------------------------------------\n",
    "# for i in new_df['Booking_Source_Type']:\n",
    "#     if i == 'MOB':\n",
    "#         i = 'MySales'\n",
    "#     else:\n",
    "#         if len(i)>0:\n",
    "#             i = 'Online'\n",
    "#         else:\n",
    "#             i = 'DMS'\n",
    "# ------------------------------------------------------------------------------------------------------------------------------\n",
    "# for i in new_df['Booking_Source_Type']:\n",
    "#     if len(i)>0 and i!=MySales:\n",
    "#             new_df.loc[len(new_df['Booking_Source_Type']) > 0, \"Booking_Source_Type\"] = 'Online'\n",
    "#         else:\n",
    "#             i = 'DMS'"
   ]
  },
  {
   "cell_type": "code",
   "execution_count": 54,
   "metadata": {},
   "outputs": [],
   "source": [
    "# new_df['Booking_Source_Type'].apply(lambda x: 'MySales' if x == 'MOB' else \n",
    "#                                     new_df['Booking_Source_Type'].apply(lambda y: 'Online' if y > 0 and y!= 'MySales' else 'DMS' ) ) "
   ]
  },
  {
   "cell_type": "code",
   "execution_count": 55,
   "metadata": {},
   "outputs": [],
   "source": [
    "# new_df['Booking_Source_Type'] = new_df.apply(lambda x: 'MySales' if new_df['Booking_Source_Type'] == 'MOB' else ('Online' if new_df['Booking_Source_Type'].apply(len) > 0 else 'DMS'))"
   ]
  },
  {
   "cell_type": "code",
   "execution_count": 56,
   "metadata": {},
   "outputs": [],
   "source": [
    "# for i in new_df['Booking_Source_Type']:\n",
    "#     if i == 'MOB':\n",
    "#         i = 'MySales'\n",
    "#     else:\n",
    "#         if len(i) > 0:\n",
    "#             i = 'Online'\n",
    "#         else:\n",
    "#             i = 'DMS'\n",
    "    \n",
    "# if new_df['Booking_Source_Type'] == 'MOB':\n",
    "#     new_df['Booking_Source_Type'] = 'MySales'\n",
    "# else:\n",
    "#     if new_df['Booking_Source_Type'].apply(len) > 0:\n",
    "#         new_df['Booking_Source_Type'] = 'Online'\n",
    "#     else:\n",
    "#         new_df['Booking_Source_Type'] = 'DMS'"
   ]
  },
  {
   "cell_type": "code",
   "execution_count": 57,
   "metadata": {},
   "outputs": [],
   "source": [
    "# import numpy as np"
   ]
  },
  {
   "cell_type": "code",
   "execution_count": 58,
   "metadata": {},
   "outputs": [],
   "source": [
    "# if 'MOB' in new_df['Booking_Source_Type'].values:\n",
    "#     new_df['Booking_Source_Type'].replace('MOB','MySales',inplace = True)\n",
    "# elif 'nan' in new_df['Booking_Source_Type'].values:\n",
    "#     new_df['Booking_Source_Type'].replace('nan','DMS',inplace = True)\n",
    "# else:\n",
    "#     new_df['Booking_Source_Type'] = np.where((new_df['Booking_Source_Type']!= 'MySales') & (new_df['Booking_Source_Type']!= 'DMS')  ,'Online')\n",
    "        "
   ]
  },
  {
   "cell_type": "code",
   "execution_count": 59,
   "metadata": {},
   "outputs": [],
   "source": [
    "# new_df['Booking_Source_Type']"
   ]
  },
  {
   "cell_type": "code",
   "execution_count": 60,
   "metadata": {},
   "outputs": [],
   "source": [
    "# if 'MOB' in new_df['Booking_Source_Type'].values:\n",
    "#      new_df['Booking_Source_Type'].replace('MOB','MySales',inplace = True)\n",
    "# else:\n",
    "#     if len(new_df['Booking_Source_Type']) > 0:\n",
    "#         new_df['Booking_Source_Type'] = 'Online'\n",
    "#     else:\n",
    "#         new_df['Booking_Source_Type'] = 'DMS'\n",
    "        "
   ]
  },
  {
   "cell_type": "code",
   "execution_count": null,
   "metadata": {},
   "outputs": [],
   "source": []
  }
 ],
 "metadata": {
  "kernelspec": {
   "display_name": "Python 3 (ipykernel)",
   "language": "python",
   "name": "python3"
  },
  "language_info": {
   "codemirror_mode": {
    "name": "ipython",
    "version": 3
   },
   "file_extension": ".py",
   "mimetype": "text/x-python",
   "name": "python",
   "nbconvert_exporter": "python",
   "pygments_lexer": "ipython3",
   "version": "3.10.7"
  },
  "vscode": {
   "interpreter": {
    "hash": "26de051ba29f2982a8de78e945f0abaf191376122a1563185a90213a26c5da77"
   }
  }
 },
 "nbformat": 4,
 "nbformat_minor": 2
}
