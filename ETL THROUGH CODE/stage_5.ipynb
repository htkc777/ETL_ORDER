{
 "cells": [
  {
   "cell_type": "code",
   "execution_count": 70,
   "id": "1d050278",
   "metadata": {},
   "outputs": [],
   "source": [
    "import pandas as pd"
   ]
  },
  {
   "cell_type": "code",
   "execution_count": 71,
   "id": "0801b6f0",
   "metadata": {},
   "outputs": [],
   "source": [
    "df = pd.read_csv(\"C:\\\\Users\\\\15442\\\\Desktop\\\\Files\\\\ETL\\\\Stage1_Sales_CRM_SCEQCR_TB.csv\")"
   ]
  },
  {
   "cell_type": "code",
   "execution_count": 72,
   "id": "b0e75083",
   "metadata": {},
   "outputs": [
    {
     "name": "stdout",
     "output_type": "stream",
     "text": [
      "<class 'pandas.core.frame.DataFrame'>\n",
      "RangeIndex: 1614260 entries, 0 to 1614259\n",
      "Data columns (total 19 columns):\n",
      " #   Column               Non-Null Count    Dtype  \n",
      "---  ------               --------------    -----  \n",
      " 0   EQCR_DLR_NO          1614260 non-null  object \n",
      " 1   EQCR_ENQRY_NO        1614260 non-null  object \n",
      " 2   EQCR_SEQ             1614260 non-null  int64  \n",
      " 3   EQCR_CORP_NO         1614260 non-null  object \n",
      " 4   EQCR_CMPN_NO         1614260 non-null  object \n",
      " 5   EQCR_MODEL_CODE      1614259 non-null  object \n",
      " 6   EQCR_VRNT_CODE       1440534 non-null  float64\n",
      " 7   EQCR_COLOR_CODE      1394445 non-null  object \n",
      " 8   EQCR_QTY             1614260 non-null  int64  \n",
      " 9   EQCR_CRTE_DTIME      1614260 non-null  object \n",
      " 10  EQCR_CRTE_EMP_NO     1614260 non-null  object \n",
      " 11  EQCR_UPDT_DTIME      1614260 non-null  object \n",
      " 12  EQCR_UPDT_EMP_NO     1614260 non-null  object \n",
      " 13  EQCR_INTCOLOR_CODE   1236663 non-null  object \n",
      " 14  EQCR_MAKER_CODE      288139 non-null   object \n",
      " 15  EQCR_INT_COLOR_CODE  1352046 non-null  object \n",
      " 16  EQCR_QUOTED_PRICE    311009 non-null   float64\n",
      " 17  EQCR_EXPECTED_PRICE  179573 non-null   float64\n",
      " 18  EQCR_FUEL_TYPE       1612581 non-null  object \n",
      "dtypes: float64(3), int64(2), object(14)\n",
      "memory usage: 234.0+ MB\n"
     ]
    }
   ],
   "source": [
    "df.info()"
   ]
  },
  {
   "cell_type": "code",
   "execution_count": 73,
   "id": "9ab08c5e",
   "metadata": {},
   "outputs": [
    {
     "data": {
      "text/plain": [
       "(1614260, 19)"
      ]
     },
     "execution_count": 73,
     "metadata": {},
     "output_type": "execute_result"
    }
   ],
   "source": [
    "df.shape"
   ]
  },
  {
   "cell_type": "code",
   "execution_count": 74,
   "id": "8305c400",
   "metadata": {},
   "outputs": [
    {
     "data": {
      "text/plain": [
       "Index(['EQCR_DLR_NO', 'EQCR_ENQRY_NO', 'EQCR_SEQ', 'EQCR_CORP_NO',\n",
       "       'EQCR_CMPN_NO', 'EQCR_MODEL_CODE', 'EQCR_VRNT_CODE', 'EQCR_COLOR_CODE',\n",
       "       'EQCR_QTY', 'EQCR_CRTE_DTIME', 'EQCR_CRTE_EMP_NO', 'EQCR_UPDT_DTIME',\n",
       "       'EQCR_UPDT_EMP_NO', 'EQCR_INTCOLOR_CODE', 'EQCR_MAKER_CODE',\n",
       "       'EQCR_INT_COLOR_CODE', 'EQCR_QUOTED_PRICE', 'EQCR_EXPECTED_PRICE',\n",
       "       'EQCR_FUEL_TYPE'],\n",
       "      dtype='object')"
      ]
     },
     "execution_count": 74,
     "metadata": {},
     "output_type": "execute_result"
    }
   ],
   "source": [
    "df.columns"
   ]
  },
  {
   "cell_type": "code",
   "execution_count": 75,
   "id": "711675bf",
   "metadata": {},
   "outputs": [],
   "source": [
    "list1 = ['EQCR_DLR_NO',\n",
    " 'EQCR_ENQRY_NO',\n",
    " 'EQCR_SEQ',\n",
    " 'EQCR_CORP_NO',\n",
    " 'EQCR_CMPN_NO',\n",
    " 'EQCR_QTY',\n",
    " 'EQCR_QUOTED_PRICE',\n",
    " 'EQCR_EXPECTED_PRICE']"
   ]
  },
  {
   "cell_type": "code",
   "execution_count": 76,
   "id": "7fd6df3f",
   "metadata": {},
   "outputs": [],
   "source": [
    "df_list = []\n",
    "for i in df:\n",
    "    df_list.append(i)"
   ]
  },
  {
   "cell_type": "code",
   "execution_count": 77,
   "id": "7b28e844",
   "metadata": {},
   "outputs": [
    {
     "data": {
      "text/plain": [
       "['EQCR_DLR_NO',\n",
       " 'EQCR_ENQRY_NO',\n",
       " 'EQCR_SEQ',\n",
       " 'EQCR_CORP_NO',\n",
       " 'EQCR_CMPN_NO',\n",
       " 'EQCR_MODEL_CODE',\n",
       " 'EQCR_VRNT_CODE',\n",
       " 'EQCR_COLOR_CODE',\n",
       " 'EQCR_QTY',\n",
       " 'EQCR_CRTE_DTIME',\n",
       " 'EQCR_CRTE_EMP_NO',\n",
       " 'EQCR_UPDT_DTIME',\n",
       " 'EQCR_UPDT_EMP_NO',\n",
       " 'EQCR_INTCOLOR_CODE',\n",
       " 'EQCR_MAKER_CODE',\n",
       " 'EQCR_INT_COLOR_CODE',\n",
       " 'EQCR_QUOTED_PRICE',\n",
       " 'EQCR_EXPECTED_PRICE',\n",
       " 'EQCR_FUEL_TYPE']"
      ]
     },
     "execution_count": 77,
     "metadata": {},
     "output_type": "execute_result"
    }
   ],
   "source": [
    "df_list"
   ]
  },
  {
   "cell_type": "code",
   "execution_count": 78,
   "id": "110dc4a2",
   "metadata": {},
   "outputs": [],
   "source": [
    "list3 = []\n",
    "for i in df_list:\n",
    "    if i not in list1:\n",
    "        list3.append(i)"
   ]
  },
  {
   "cell_type": "code",
   "execution_count": 79,
   "id": "569f6023",
   "metadata": {},
   "outputs": [
    {
     "data": {
      "text/plain": [
       "['EQCR_MODEL_CODE',\n",
       " 'EQCR_VRNT_CODE',\n",
       " 'EQCR_COLOR_CODE',\n",
       " 'EQCR_CRTE_DTIME',\n",
       " 'EQCR_CRTE_EMP_NO',\n",
       " 'EQCR_UPDT_DTIME',\n",
       " 'EQCR_UPDT_EMP_NO',\n",
       " 'EQCR_INTCOLOR_CODE',\n",
       " 'EQCR_MAKER_CODE',\n",
       " 'EQCR_INT_COLOR_CODE',\n",
       " 'EQCR_FUEL_TYPE']"
      ]
     },
     "execution_count": 79,
     "metadata": {},
     "output_type": "execute_result"
    }
   ],
   "source": [
    "list3"
   ]
  },
  {
   "cell_type": "code",
   "execution_count": 80,
   "id": "e2d632ce",
   "metadata": {},
   "outputs": [
    {
     "data": {
      "text/plain": [
       "19"
      ]
     },
     "execution_count": 80,
     "metadata": {},
     "output_type": "execute_result"
    }
   ],
   "source": [
    "len(df_list)\n"
   ]
  },
  {
   "cell_type": "code",
   "execution_count": 81,
   "id": "78d7e617",
   "metadata": {},
   "outputs": [
    {
     "data": {
      "text/plain": [
       "8"
      ]
     },
     "execution_count": 81,
     "metadata": {},
     "output_type": "execute_result"
    }
   ],
   "source": [
    "len(list1)"
   ]
  },
  {
   "cell_type": "code",
   "execution_count": 82,
   "id": "4a3771a7",
   "metadata": {},
   "outputs": [
    {
     "data": {
      "text/plain": [
       "11"
      ]
     },
     "execution_count": 82,
     "metadata": {},
     "output_type": "execute_result"
    }
   ],
   "source": [
    "len(list3)"
   ]
  },
  {
   "cell_type": "code",
   "execution_count": 83,
   "id": "95366856",
   "metadata": {},
   "outputs": [],
   "source": [
    "df.drop(['EQCR_MODEL_CODE',\n",
    " 'EQCR_VRNT_CODE',\n",
    " 'EQCR_COLOR_CODE',\n",
    " 'EQCR_CRTE_DTIME',\n",
    " 'EQCR_CRTE_EMP_NO',\n",
    " 'EQCR_UPDT_DTIME',\n",
    " 'EQCR_UPDT_EMP_NO',\n",
    " 'EQCR_INTCOLOR_CODE',\n",
    " 'EQCR_MAKER_CODE',\n",
    " 'EQCR_INT_COLOR_CODE',\n",
    " 'EQCR_FUEL_TYPE'], axis=1, inplace = True)"
   ]
  },
  {
   "cell_type": "code",
   "execution_count": 85,
   "id": "aeb29486",
   "metadata": {},
   "outputs": [
    {
     "name": "stdout",
     "output_type": "stream",
     "text": [
      "<class 'pandas.core.frame.DataFrame'>\n",
      "RangeIndex: 1614260 entries, 0 to 1614259\n",
      "Data columns (total 8 columns):\n",
      " #   Column               Non-Null Count    Dtype  \n",
      "---  ------               --------------    -----  \n",
      " 0   EQCR_DLR_NO          1614260 non-null  object \n",
      " 1   EQCR_ENQRY_NO        1614260 non-null  object \n",
      " 2   EQCR_SEQ             1614260 non-null  int64  \n",
      " 3   EQCR_CORP_NO         1614260 non-null  object \n",
      " 4   EQCR_CMPN_NO         1614260 non-null  object \n",
      " 5   EQCR_QTY             1614260 non-null  int64  \n",
      " 6   EQCR_QUOTED_PRICE    311009 non-null   float64\n",
      " 7   EQCR_EXPECTED_PRICE  179573 non-null   float64\n",
      "dtypes: float64(2), int64(2), object(4)\n",
      "memory usage: 98.5+ MB\n"
     ]
    }
   ],
   "source": [
    "df.info()"
   ]
  },
  {
   "cell_type": "code",
   "execution_count": 88,
   "id": "2262a73e",
   "metadata": {},
   "outputs": [],
   "source": [
    "column_indices = [0,\n",
    " 1,\n",
    " 2,\n",
    " 3,\n",
    " 4,\n",
    " 5,\n",
    " 6,\n",
    " 7]\n",
    "new_names = ['Dealer_No',\n",
    " 'Link_Enquiry_No',\n",
    " 'EQCR_SEQ',\n",
    " 'Corporation_No',\n",
    " 'Company_No',\n",
    " 'Booking_Qty1',\n",
    " 'EQCR_QUOTED_PRICE',\n",
    " 'EQCR_EXPECTED_PRICE']\n",
    "old_names = df.columns[column_indices]\n",
    "df.rename(columns=dict(zip(old_names, new_names)), inplace=True)"
   ]
  },
  {
   "cell_type": "code",
   "execution_count": 89,
   "id": "c5b13c10",
   "metadata": {},
   "outputs": [
    {
     "name": "stdout",
     "output_type": "stream",
     "text": [
      "<class 'pandas.core.frame.DataFrame'>\n",
      "RangeIndex: 1614260 entries, 0 to 1614259\n",
      "Data columns (total 8 columns):\n",
      " #   Column               Non-Null Count    Dtype  \n",
      "---  ------               --------------    -----  \n",
      " 0   Dealer_No            1614260 non-null  object \n",
      " 1   Link_Enquiry_No      1614260 non-null  object \n",
      " 2   EQCR_SEQ             1614260 non-null  int64  \n",
      " 3   Corporation_No       1614260 non-null  object \n",
      " 4   Company_No           1614260 non-null  object \n",
      " 5   Booking_Qty1         1614260 non-null  int64  \n",
      " 6   EQCR_QUOTED_PRICE    311009 non-null   float64\n",
      " 7   EQCR_EXPECTED_PRICE  179573 non-null   float64\n",
      "dtypes: float64(2), int64(2), object(4)\n",
      "memory usage: 98.5+ MB\n"
     ]
    }
   ],
   "source": [
    "df.info()"
   ]
  },
  {
   "cell_type": "code",
   "execution_count": 90,
   "id": "460d442b",
   "metadata": {},
   "outputs": [
    {
     "data": {
      "text/plain": [
       "(1614260, 8)"
      ]
     },
     "execution_count": 90,
     "metadata": {},
     "output_type": "execute_result"
    }
   ],
   "source": [
    "df.shape"
   ]
  }
 ],
 "metadata": {
  "kernelspec": {
   "display_name": "Python 3 (ipykernel)",
   "language": "python",
   "name": "python3"
  },
  "language_info": {
   "codemirror_mode": {
    "name": "ipython",
    "version": 3
   },
   "file_extension": ".py",
   "mimetype": "text/x-python",
   "name": "python",
   "nbconvert_exporter": "python",
   "pygments_lexer": "ipython3",
   "version": "3.10.7"
  }
 },
 "nbformat": 4,
 "nbformat_minor": 5
}
