{
 "cells": [
  {
   "cell_type": "code",
   "execution_count": 146,
   "id": "d26bd755",
   "metadata": {},
   "outputs": [],
   "source": [
    "import pandas as pd"
   ]
  },
  {
   "cell_type": "code",
   "execution_count": 147,
   "id": "bb361beb",
   "metadata": {},
   "outputs": [
    {
     "name": "stderr",
     "output_type": "stream",
     "text": [
      "C:\\Users\\15442\\AppData\\Local\\Temp\\ipykernel_12408\\198455636.py:1: DtypeWarning: Columns (24,25,26,44,45,53) have mixed types. Specify dtype option on import or set low_memory=False.\n",
      "  df = pd.read_csv(\"C:\\\\Users\\\\15442\\\\Desktop\\\\Files\\\\ETL\\\\Stage1_Sales_SAL_SWINVC_TB.csv\")\n"
     ]
    }
   ],
   "source": [
    "df = pd.read_csv(\"C:\\\\Users\\\\15442\\\\Desktop\\\\Files\\\\ETL\\\\Stage1_Sales_SAL_SWINVC_TB.csv\")"
   ]
  },
  {
   "cell_type": "code",
   "execution_count": 148,
   "id": "abd18306",
   "metadata": {},
   "outputs": [
    {
     "name": "stdout",
     "output_type": "stream",
     "text": [
      "<class 'pandas.core.frame.DataFrame'>\n",
      "RangeIndex: 951070 entries, 0 to 951069\n",
      "Data columns (total 60 columns):\n",
      " #   Column                  Non-Null Count   Dtype  \n",
      "---  ------                  --------------   -----  \n",
      " 0   INVC_DLR_NO             951070 non-null  object \n",
      " 1   INVC_NO                 951070 non-null  object \n",
      " 2   INVC_CORP_NO            951070 non-null  object \n",
      " 3   INVC_CMPN_NO            951070 non-null  object \n",
      " 4   INVC_TYPE               520694 non-null  object \n",
      " 5   INVC_CNFM_YN            503571 non-null  object \n",
      " 6   INVC_CNFM_DATE          511259 non-null  object \n",
      " 7   INVC_DATE               951070 non-null  object \n",
      " 8   INVC_INSR_YN            495921 non-null  object \n",
      " 9   INVC_INSR_AMT           0 non-null       float64\n",
      " 10  INVC_INSR_DATE          1 non-null       float64\n",
      " 11  INVC_INSR_TYPE          0 non-null       float64\n",
      " 12  INVC_INSR_NO            500152 non-null  object \n",
      " 13  INVC_RGSTN_NO           499968 non-null  object \n",
      " 14  INVC_RGSTN_DATE         500141 non-null  object \n",
      " 15  INVC_DLVRY_DATE         501179 non-null  object \n",
      " 16  INVC_ADDR1              0 non-null       float64\n",
      " 17  INVC_ADDR2              0 non-null       float64\n",
      " 18  INVC_ADDR3              0 non-null       float64\n",
      " 19  INVC_RGN_CODE           0 non-null       float64\n",
      " 20  INVC_STCD_CODE          0 non-null       float64\n",
      " 21  INVC_CITY_CODE          0 non-null       float64\n",
      " 22  INVC_LCTN_CODE          0 non-null       float64\n",
      " 23  INVC_PIN_CODE           0 non-null       float64\n",
      " 24  INVC_CNCL_YN            17065 non-null   object \n",
      " 25  INVC_CNCL_DATE          17065 non-null   object \n",
      " 26  INVC_CNCL_RMRKS         15252 non-null   object \n",
      " 27  INVC_BKNG_NO            951070 non-null  object \n",
      " 28  INVC_CRTE_DTIME         951070 non-null  object \n",
      " 29  INVC_CRTE_EMP_NO        951070 non-null  object \n",
      " 30  INVC_UPDT_DTIME         951070 non-null  object \n",
      " 31  INVC_UPDT_EMP_NO        951070 non-null  object \n",
      " 32  INVC_ACTRL_USR_YN       444616 non-null  object \n",
      " 33  INVC_DN_DATE            43870 non-null   object \n",
      " 34  INVC_DLVRY_CNFM_YN      0 non-null       float64\n",
      " 35  INVC_CC_REQ             0 non-null       float64\n",
      " 36  INVC_CC_REASON          0 non-null       float64\n",
      " 37  INVC_CC_RDATE           0 non-null       float64\n",
      " 38  INVC_CC_RMRKS           0 non-null       float64\n",
      " 39  INVC_CC_RA_YN           0 non-null       float64\n",
      " 40  INVC_CC_STATUS          0 non-null       float64\n",
      " 41  INVC_CC_REQ_VERSION     0 non-null       float64\n",
      " 42  INVC_HMIL_EMP_CODE      0 non-null       float64\n",
      " 43  INVC_ENQRY_NO           951070 non-null  object \n",
      " 44  INVC_REGI_FILE_DOC_NO   14018 non-null   object \n",
      " 45  INVC_DLVRY_FILE_DOC_NO  24685 non-null   object \n",
      " 46  INVC_REGI_CUST_NO       177509 non-null  object \n",
      " 47  INVC_REGI_RELAT_SHIP    144946 non-null  object \n",
      " 48  INVC_VIN_NO             507756 non-null  object \n",
      " 49  INVC_BASIC_PRCE         518820 non-null  float64\n",
      " 50  INVC_VRNT_PRCE          518820 non-null  float64\n",
      " 51  INVC_ADVNC_EMI          518820 non-null  float64\n",
      " 52  INVC_LOAN_AMT           518820 non-null  float64\n",
      " 53  INVC_WTYNLTY_CFC_YN     49 non-null      object \n",
      " 54  INVC_EQCR_SEQ           951070 non-null  int64  \n",
      " 55  INVC_ALCN_DATE          507500 non-null  object \n",
      " 56  INVC_SCHEME_YN          518820 non-null  object \n",
      " 57  INVC_MYKIA              152159 non-null  object \n",
      " 58  INVC_MYKIA_REG_DATE     152159 non-null  object \n",
      " 59  INVC_MK_VINLINK_DT      152151 non-null  object \n",
      "dtypes: float64(24), int64(1), object(35)\n",
      "memory usage: 435.4+ MB\n"
     ]
    }
   ],
   "source": [
    "df.info()"
   ]
  },
  {
   "cell_type": "code",
   "execution_count": 149,
   "id": "182e99b1",
   "metadata": {},
   "outputs": [],
   "source": [
    "df['Delivery_Date'] = pd.to_datetime(df['INVC_DLVRY_DATE'], format='%Y-%m-%d').dt.strftime('%d/%m/%Y')"
   ]
  },
  {
   "cell_type": "code",
   "execution_count": 150,
   "id": "e7da8f64",
   "metadata": {},
   "outputs": [
    {
     "data": {
      "text/plain": [
       "0                NaN\n",
       "1         23/10/2019\n",
       "2         17/10/2019\n",
       "3                NaN\n",
       "4         01/10/2019\n",
       "             ...    \n",
       "951065           NaN\n",
       "951066           NaN\n",
       "951067           NaN\n",
       "951068           NaN\n",
       "951069           NaN\n",
       "Name: Delivery_Date, Length: 951070, dtype: object"
      ]
     },
     "execution_count": 150,
     "metadata": {},
     "output_type": "execute_result"
    }
   ],
   "source": [
    "df['Delivery_Date']"
   ]
  },
  {
   "cell_type": "code",
   "execution_count": 151,
   "id": "35bad123",
   "metadata": {},
   "outputs": [],
   "source": [
    "import numpy as np"
   ]
  },
  {
   "cell_type": "code",
   "execution_count": 152,
   "id": "07abe9a6",
   "metadata": {},
   "outputs": [],
   "source": [
    "df[\"INVC_BASIC_PRCE\"] = df[\"INVC_BASIC_PRCE\"].fillna(0)"
   ]
  },
  {
   "cell_type": "code",
   "execution_count": 153,
   "id": "68c8c961",
   "metadata": {},
   "outputs": [],
   "source": [
    "df[\"INVC_BASIC_PRCE\"] = df[\"INVC_BASIC_PRCE\"].apply(np.int64)"
   ]
  },
  {
   "cell_type": "code",
   "execution_count": 154,
   "id": "b092c48b",
   "metadata": {},
   "outputs": [
    {
     "data": {
      "text/plain": [
       "0               0\n",
       "1         1171724\n",
       "2         1171724\n",
       "3               0\n",
       "4          771724\n",
       "           ...   \n",
       "951065          0\n",
       "951066          0\n",
       "951067          0\n",
       "951068          0\n",
       "951069          0\n",
       "Name: INVC_BASIC_PRCE, Length: 951070, dtype: int64"
      ]
     },
     "execution_count": 154,
     "metadata": {},
     "output_type": "execute_result"
    }
   ],
   "source": [
    "df[\"INVC_BASIC_PRCE\"]"
   ]
  },
  {
   "cell_type": "code",
   "execution_count": 155,
   "id": "41e21b7b",
   "metadata": {},
   "outputs": [],
   "source": [
    "df[\"INVC_BASIC_PRCE\"] = df[\"INVC_BASIC_PRCE\"].astype(str)"
   ]
  },
  {
   "cell_type": "code",
   "execution_count": 156,
   "id": "13336bad",
   "metadata": {},
   "outputs": [],
   "source": [
    "df['INVC_BASIC_PRCE'] = df['INVC_BASIC_PRCE'].str.slice(3, 5)"
   ]
  },
  {
   "cell_type": "code",
   "execution_count": 157,
   "id": "27937415",
   "metadata": {},
   "outputs": [],
   "source": [
    "df['INVC_BASIC_PRCE'] = pd.to_numeric(df['INVC_BASIC_PRCE'])\n"
   ]
  },
  {
   "cell_type": "code",
   "execution_count": 158,
   "id": "499eeea4",
   "metadata": {},
   "outputs": [],
   "source": [
    "df[\"INVC_BASIC_PRCE\"] = df[\"INVC_BASIC_PRCE\"].fillna(0)"
   ]
  },
  {
   "cell_type": "code",
   "execution_count": 159,
   "id": "2ed8f5b7",
   "metadata": {},
   "outputs": [],
   "source": [
    "df[\"INVC_BASIC_PRCE\"] = df[\"INVC_BASIC_PRCE\"].apply(np.int64)"
   ]
  },
  {
   "cell_type": "code",
   "execution_count": 160,
   "id": "74ed55c7",
   "metadata": {},
   "outputs": [
    {
     "data": {
      "text/plain": [
       "0          0\n",
       "1         17\n",
       "2         17\n",
       "3          0\n",
       "4         72\n",
       "          ..\n",
       "951065     0\n",
       "951066     0\n",
       "951067     0\n",
       "951068     0\n",
       "951069     0\n",
       "Name: INVC_BASIC_PRCE, Length: 951070, dtype: int64"
      ]
     },
     "execution_count": 160,
     "metadata": {},
     "output_type": "execute_result"
    }
   ],
   "source": [
    "df[\"INVC_BASIC_PRCE\"]"
   ]
  },
  {
   "cell_type": "code",
   "execution_count": 161,
   "id": "a382cc6a",
   "metadata": {},
   "outputs": [],
   "source": [
    "import datetime"
   ]
  },
  {
   "cell_type": "code",
   "execution_count": 162,
   "id": "a497a19f",
   "metadata": {},
   "outputs": [],
   "source": [
    "from time import strftime"
   ]
  },
  {
   "cell_type": "code",
   "execution_count": 163,
   "id": "f36b884d",
   "metadata": {},
   "outputs": [
    {
     "data": {
      "text/plain": [
       "0                NaN\n",
       "1         2019-10-23\n",
       "2         2019-10-14\n",
       "3                NaN\n",
       "4         2019-09-26\n",
       "             ...    \n",
       "951065           NaN\n",
       "951066           NaN\n",
       "951067           NaN\n",
       "951068           NaN\n",
       "951069           NaN\n",
       "Name: INVC_CNFM_DATE, Length: 951070, dtype: object"
      ]
     },
     "execution_count": 163,
     "metadata": {},
     "output_type": "execute_result"
    }
   ],
   "source": [
    "df['INVC_CNFM_DATE']"
   ]
  },
  {
   "cell_type": "code",
   "execution_count": 164,
   "id": "d9fe5a21",
   "metadata": {},
   "outputs": [],
   "source": [
    "df['INVC_CNFM_DATE'] =  pd.to_datetime(df['INVC_CNFM_DATE']).dt.date.astype(\"datetime64[ns]\")"
   ]
  },
  {
   "cell_type": "code",
   "execution_count": 165,
   "id": "6c883fcb",
   "metadata": {},
   "outputs": [],
   "source": [
    "df['Invoice_Cofirmation_Date'] = pd.to_datetime(df['INVC_CNFM_DATE'])"
   ]
  },
  {
   "cell_type": "code",
   "execution_count": 166,
   "id": "3fe13480",
   "metadata": {},
   "outputs": [],
   "source": [
    "df['Invoice_Cofirmation_Date'] = pd.to_datetime(df['INVC_CNFM_DATE'], format='%Y-%m-%d').dt.strftime('%d/%m/%Y')"
   ]
  },
  {
   "cell_type": "code",
   "execution_count": 168,
   "id": "3cbd2d31",
   "metadata": {},
   "outputs": [
    {
     "data": {
      "text/plain": [
       "0               NaT\n",
       "1        2019-10-23\n",
       "2        2019-10-14\n",
       "3               NaT\n",
       "4        2019-09-26\n",
       "            ...    \n",
       "951065          NaT\n",
       "951066          NaT\n",
       "951067          NaT\n",
       "951068          NaT\n",
       "951069          NaT\n",
       "Name: INVC_CNFM_DATE, Length: 951070, dtype: datetime64[ns]"
      ]
     },
     "execution_count": 168,
     "metadata": {},
     "output_type": "execute_result"
    }
   ],
   "source": [
    "df['INVC_CNFM_DATE']"
   ]
  },
  {
   "cell_type": "code",
   "execution_count": 169,
   "id": "9ed3c2bf",
   "metadata": {},
   "outputs": [
    {
     "name": "stdout",
     "output_type": "stream",
     "text": [
      "<class 'pandas.core.frame.DataFrame'>\n",
      "RangeIndex: 951070 entries, 0 to 951069\n",
      "Data columns (total 62 columns):\n",
      " #   Column                    Non-Null Count   Dtype         \n",
      "---  ------                    --------------   -----         \n",
      " 0   INVC_DLR_NO               951070 non-null  object        \n",
      " 1   INVC_NO                   951070 non-null  object        \n",
      " 2   INVC_CORP_NO              951070 non-null  object        \n",
      " 3   INVC_CMPN_NO              951070 non-null  object        \n",
      " 4   INVC_TYPE                 520694 non-null  object        \n",
      " 5   INVC_CNFM_YN              503571 non-null  object        \n",
      " 6   INVC_CNFM_DATE            511259 non-null  datetime64[ns]\n",
      " 7   INVC_DATE                 951070 non-null  object        \n",
      " 8   INVC_INSR_YN              495921 non-null  object        \n",
      " 9   INVC_INSR_AMT             0 non-null       float64       \n",
      " 10  INVC_INSR_DATE            1 non-null       float64       \n",
      " 11  INVC_INSR_TYPE            0 non-null       float64       \n",
      " 12  INVC_INSR_NO              500152 non-null  object        \n",
      " 13  INVC_RGSTN_NO             499968 non-null  object        \n",
      " 14  INVC_RGSTN_DATE           500141 non-null  object        \n",
      " 15  INVC_DLVRY_DATE           501179 non-null  object        \n",
      " 16  INVC_ADDR1                0 non-null       float64       \n",
      " 17  INVC_ADDR2                0 non-null       float64       \n",
      " 18  INVC_ADDR3                0 non-null       float64       \n",
      " 19  INVC_RGN_CODE             0 non-null       float64       \n",
      " 20  INVC_STCD_CODE            0 non-null       float64       \n",
      " 21  INVC_CITY_CODE            0 non-null       float64       \n",
      " 22  INVC_LCTN_CODE            0 non-null       float64       \n",
      " 23  INVC_PIN_CODE             0 non-null       float64       \n",
      " 24  INVC_CNCL_YN              17065 non-null   object        \n",
      " 25  INVC_CNCL_DATE            17065 non-null   object        \n",
      " 26  INVC_CNCL_RMRKS           15252 non-null   object        \n",
      " 27  INVC_BKNG_NO              951070 non-null  object        \n",
      " 28  INVC_CRTE_DTIME           951070 non-null  object        \n",
      " 29  INVC_CRTE_EMP_NO          951070 non-null  object        \n",
      " 30  INVC_UPDT_DTIME           951070 non-null  object        \n",
      " 31  INVC_UPDT_EMP_NO          951070 non-null  object        \n",
      " 32  INVC_ACTRL_USR_YN         444616 non-null  object        \n",
      " 33  INVC_DN_DATE              43870 non-null   object        \n",
      " 34  INVC_DLVRY_CNFM_YN        0 non-null       float64       \n",
      " 35  INVC_CC_REQ               0 non-null       float64       \n",
      " 36  INVC_CC_REASON            0 non-null       float64       \n",
      " 37  INVC_CC_RDATE             0 non-null       float64       \n",
      " 38  INVC_CC_RMRKS             0 non-null       float64       \n",
      " 39  INVC_CC_RA_YN             0 non-null       float64       \n",
      " 40  INVC_CC_STATUS            0 non-null       float64       \n",
      " 41  INVC_CC_REQ_VERSION       0 non-null       float64       \n",
      " 42  INVC_HMIL_EMP_CODE        0 non-null       float64       \n",
      " 43  INVC_ENQRY_NO             951070 non-null  object        \n",
      " 44  INVC_REGI_FILE_DOC_NO     14018 non-null   object        \n",
      " 45  INVC_DLVRY_FILE_DOC_NO    24685 non-null   object        \n",
      " 46  INVC_REGI_CUST_NO         177509 non-null  object        \n",
      " 47  INVC_REGI_RELAT_SHIP      144946 non-null  object        \n",
      " 48  INVC_VIN_NO               507756 non-null  object        \n",
      " 49  INVC_BASIC_PRCE           951070 non-null  int64         \n",
      " 50  INVC_VRNT_PRCE            518820 non-null  float64       \n",
      " 51  INVC_ADVNC_EMI            518820 non-null  float64       \n",
      " 52  INVC_LOAN_AMT             518820 non-null  float64       \n",
      " 53  INVC_WTYNLTY_CFC_YN       49 non-null      object        \n",
      " 54  INVC_EQCR_SEQ             951070 non-null  int64         \n",
      " 55  INVC_ALCN_DATE            507500 non-null  object        \n",
      " 56  INVC_SCHEME_YN            518820 non-null  object        \n",
      " 57  INVC_MYKIA                152159 non-null  object        \n",
      " 58  INVC_MYKIA_REG_DATE       152159 non-null  object        \n",
      " 59  INVC_MK_VINLINK_DT        152151 non-null  object        \n",
      " 60  Delivery_Date             501179 non-null  object        \n",
      " 61  Invoice_Cofirmation_Date  511259 non-null  object        \n",
      "dtypes: datetime64[ns](1), float64(23), int64(2), object(36)\n",
      "memory usage: 449.9+ MB\n"
     ]
    }
   ],
   "source": [
    "df.info()"
   ]
  },
  {
   "cell_type": "code",
   "execution_count": 170,
   "id": "e72fa845",
   "metadata": {},
   "outputs": [],
   "source": [
    "df.drop(['INVC_VIN_NO','INVC_MYKIA','INVC_MYKIA_REG_DATE','INVC_MK_VINLINK_DT'], axis=1, inplace = True)"
   ]
  },
  {
   "cell_type": "code",
   "execution_count": 171,
   "id": "5f630ee5",
   "metadata": {},
   "outputs": [
    {
     "data": {
      "text/plain": [
       "(951070, 58)"
      ]
     },
     "execution_count": 171,
     "metadata": {},
     "output_type": "execute_result"
    }
   ],
   "source": [
    "df.shape"
   ]
  },
  {
   "cell_type": "code",
   "execution_count": 172,
   "id": "fcd2f416",
   "metadata": {},
   "outputs": [],
   "source": [
    "df = df.rename(columns={\"INVC_DLR_NO\":\"Dealer_No\",\"INVC_NO\":\"Invoice_No\",\"INVC_CORP_NO\":\"Corporation_No\",\"INVC_CMPN_NO\":\" Company_No\",\n",
    "                      \"INVC_DATE\":\"Invoice_Date\",\"INVC_ENQRY_NO\":\"Link_Enquiry_No\",\"INVC_BKNG_NO\":\"Booking_No\",\"INVC_REGI_CUST_NO\":\"Customer_No\" })"
   ]
  },
  {
   "cell_type": "code",
   "execution_count": 173,
   "id": "7b2001c9",
   "metadata": {},
   "outputs": [
    {
     "name": "stdout",
     "output_type": "stream",
     "text": [
      "<class 'pandas.core.frame.DataFrame'>\n",
      "RangeIndex: 951070 entries, 0 to 951069\n",
      "Data columns (total 58 columns):\n",
      " #   Column                    Non-Null Count   Dtype         \n",
      "---  ------                    --------------   -----         \n",
      " 0   Dealer_No                 951070 non-null  object        \n",
      " 1   Invoice_No                951070 non-null  object        \n",
      " 2   Corporation_No            951070 non-null  object        \n",
      " 3    Company_No               951070 non-null  object        \n",
      " 4   INVC_TYPE                 520694 non-null  object        \n",
      " 5   INVC_CNFM_YN              503571 non-null  object        \n",
      " 6   INVC_CNFM_DATE            511259 non-null  datetime64[ns]\n",
      " 7   Invoice_Date              951070 non-null  object        \n",
      " 8   INVC_INSR_YN              495921 non-null  object        \n",
      " 9   INVC_INSR_AMT             0 non-null       float64       \n",
      " 10  INVC_INSR_DATE            1 non-null       float64       \n",
      " 11  INVC_INSR_TYPE            0 non-null       float64       \n",
      " 12  INVC_INSR_NO              500152 non-null  object        \n",
      " 13  INVC_RGSTN_NO             499968 non-null  object        \n",
      " 14  INVC_RGSTN_DATE           500141 non-null  object        \n",
      " 15  INVC_DLVRY_DATE           501179 non-null  object        \n",
      " 16  INVC_ADDR1                0 non-null       float64       \n",
      " 17  INVC_ADDR2                0 non-null       float64       \n",
      " 18  INVC_ADDR3                0 non-null       float64       \n",
      " 19  INVC_RGN_CODE             0 non-null       float64       \n",
      " 20  INVC_STCD_CODE            0 non-null       float64       \n",
      " 21  INVC_CITY_CODE            0 non-null       float64       \n",
      " 22  INVC_LCTN_CODE            0 non-null       float64       \n",
      " 23  INVC_PIN_CODE             0 non-null       float64       \n",
      " 24  INVC_CNCL_YN              17065 non-null   object        \n",
      " 25  INVC_CNCL_DATE            17065 non-null   object        \n",
      " 26  INVC_CNCL_RMRKS           15252 non-null   object        \n",
      " 27  Booking_No                951070 non-null  object        \n",
      " 28  INVC_CRTE_DTIME           951070 non-null  object        \n",
      " 29  INVC_CRTE_EMP_NO          951070 non-null  object        \n",
      " 30  INVC_UPDT_DTIME           951070 non-null  object        \n",
      " 31  INVC_UPDT_EMP_NO          951070 non-null  object        \n",
      " 32  INVC_ACTRL_USR_YN         444616 non-null  object        \n",
      " 33  INVC_DN_DATE              43870 non-null   object        \n",
      " 34  INVC_DLVRY_CNFM_YN        0 non-null       float64       \n",
      " 35  INVC_CC_REQ               0 non-null       float64       \n",
      " 36  INVC_CC_REASON            0 non-null       float64       \n",
      " 37  INVC_CC_RDATE             0 non-null       float64       \n",
      " 38  INVC_CC_RMRKS             0 non-null       float64       \n",
      " 39  INVC_CC_RA_YN             0 non-null       float64       \n",
      " 40  INVC_CC_STATUS            0 non-null       float64       \n",
      " 41  INVC_CC_REQ_VERSION       0 non-null       float64       \n",
      " 42  INVC_HMIL_EMP_CODE        0 non-null       float64       \n",
      " 43  Link_Enquiry_No           951070 non-null  object        \n",
      " 44  INVC_REGI_FILE_DOC_NO     14018 non-null   object        \n",
      " 45  INVC_DLVRY_FILE_DOC_NO    24685 non-null   object        \n",
      " 46  Customer_No               177509 non-null  object        \n",
      " 47  INVC_REGI_RELAT_SHIP      144946 non-null  object        \n",
      " 48  INVC_BASIC_PRCE           951070 non-null  int64         \n",
      " 49  INVC_VRNT_PRCE            518820 non-null  float64       \n",
      " 50  INVC_ADVNC_EMI            518820 non-null  float64       \n",
      " 51  INVC_LOAN_AMT             518820 non-null  float64       \n",
      " 52  INVC_WTYNLTY_CFC_YN       49 non-null      object        \n",
      " 53  INVC_EQCR_SEQ             951070 non-null  int64         \n",
      " 54  INVC_ALCN_DATE            507500 non-null  object        \n",
      " 55  INVC_SCHEME_YN            518820 non-null  object        \n",
      " 56  Delivery_Date             501179 non-null  object        \n",
      " 57  Invoice_Cofirmation_Date  511259 non-null  object        \n",
      "dtypes: datetime64[ns](1), float64(23), int64(2), object(32)\n",
      "memory usage: 420.9+ MB\n"
     ]
    }
   ],
   "source": [
    "df.info()"
   ]
  },
  {
   "cell_type": "code",
   "execution_count": 174,
   "id": "1ddf205e",
   "metadata": {},
   "outputs": [
    {
     "data": {
      "text/plain": [
       "(951070, 58)"
      ]
     },
     "execution_count": 174,
     "metadata": {},
     "output_type": "execute_result"
    }
   ],
   "source": [
    "df.shape"
   ]
  }
 ],
 "metadata": {
  "kernelspec": {
   "display_name": "Python 3 (ipykernel)",
   "language": "python",
   "name": "python3"
  },
  "language_info": {
   "codemirror_mode": {
    "name": "ipython",
    "version": 3
   },
   "file_extension": ".py",
   "mimetype": "text/x-python",
   "name": "python",
   "nbconvert_exporter": "python",
   "pygments_lexer": "ipython3",
   "version": "3.10.7"
  }
 },
 "nbformat": 4,
 "nbformat_minor": 5
}
